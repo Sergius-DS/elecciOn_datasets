{
  "nbformat": 4,
  "nbformat_minor": 0,
  "metadata": {
    "colab": {
      "provenance": [],
      "authorship_tag": "ABX9TyOdliwP72olQSmZo23SqFTx",
      "include_colab_link": true
    },
    "kernelspec": {
      "name": "python3",
      "display_name": "Python 3"
    },
    "language_info": {
      "name": "python"
    }
  },
  "cells": [
    {
      "cell_type": "markdown",
      "metadata": {
        "id": "view-in-github",
        "colab_type": "text"
      },
      "source": [
        "<a href=\"https://colab.research.google.com/github/Sergius-DS/elecciOn_datasets/blob/main/buscar_datasets_s19.ipynb\" target=\"_parent\"><img src=\"https://colab.research.google.com/assets/colab-badge.svg\" alt=\"Open In Colab\"/></a>"
      ]
    },
    {
      "cell_type": "markdown",
      "source": [
        "# DATA SET DIABETES"
      ],
      "metadata": {
        "id": "EBMjIfIhzmdJ"
      }
    },
    {
      "cell_type": "code",
      "execution_count": 10,
      "metadata": {
        "id": "9dHMNMP-xCZl"
      },
      "outputs": [],
      "source": [
        "import pandas as pd\n",
        "import numpy as np"
      ]
    },
    {
      "cell_type": "code",
      "source": [
        "pd.set_option('display.max_columns', None)"
      ],
      "metadata": {
        "id": "6UlnOk6Exyow"
      },
      "execution_count": 43,
      "outputs": []
    },
    {
      "cell_type": "code",
      "source": [
        "diabetes = pd.read_csv('Afiliados_activos_DM_SIS.csv')"
      ],
      "metadata": {
        "id": "mIF-HsQ3xSLY"
      },
      "execution_count": 44,
      "outputs": []
    },
    {
      "cell_type": "code",
      "source": [
        "diabetes.head(4)"
      ],
      "metadata": {
        "colab": {
          "base_uri": "https://localhost:8080/",
          "height": 281
        },
        "id": "uzvV10Ibxd8x",
        "outputId": "5bead737-688a-481a-bcda-bc433982ae66"
      },
      "execution_count": 47,
      "outputs": [
        {
          "output_type": "execute_result",
          "data": {
            "text/plain": [
              "   FECHA_CORTE  FECHA_AFILIADOS_SIS  \\\n",
              "0     20240426             20230331   \n",
              "1     20240426             20230331   \n",
              "2     20240426             20230331   \n",
              "3     20240426             20230331   \n",
              "\n",
              "                                  CODIGO_ANONIMIZADO  EDAD  UBIGEO  \\\n",
              "0  52BAEBEF1D09B9768E7B4CF5B3513538B2C45E06EF861F...    65   70106   \n",
              "1  7FD6261B4EA46FF607C1BA139B94C73CC0446E2FC7B877...    13   80907   \n",
              "2  FFBE798BE21A94EB56BB8A0B7FBDEC07AFB8824A688294...    96  150701   \n",
              "3  A063A90D386099DDBD7AEA15F5F2A96FDCA3B2E326A02C...    60   20801   \n",
              "\n",
              "  DEPARTAMENTO                PROVINCIA    DISTRITO       SEXO  \\\n",
              "0       CALLAO  PROV. CONST. DEL CALLAO  VENTANILLA   FEMENINO   \n",
              "1        CUSCO            LA CONVENCIÓN     KIMBIRI  MASCULINO   \n",
              "2         LIMA               HUAROCHIRÍ    MATUCANA   FEMENINO   \n",
              "3       ÁNCASH                    CASMA       CASMA   FEMENINO   \n",
              "\n",
              "   FECHA_PRIMER_DX                       TIPO_DIABETES CON_DX_OBESIDAD  \\\n",
              "0         20220620  Diabetes mellitus  no especificada             NaN   \n",
              "1         20221001            Diabetes mellitus tipo 2             NaN   \n",
              "2         20191216            Diabetes mellitus tipo 2              SI   \n",
              "3         20191216            Diabetes mellitus tipo 1             NaN   \n",
              "\n",
              "  CON_DX_HIPERTENSION CON_DX_SALUDMENTAL  CANT_ATENCIONES  VALOR_NETO  \\\n",
              "0                 NaN                NaN                0         0.0   \n",
              "1                 NaN                NaN                0         0.0   \n",
              "2                 NaN                 SI                0         0.0   \n",
              "3                  SI                NaN                0         0.0   \n",
              "\n",
              "   CANT_ATENCIONES_HOSP  VALOR_NETO_HOSP  DIAS_HOSP  UBIGEO_ULT_ATE  \\\n",
              "0                     0              0.0          0             NaN   \n",
              "1                     0              0.0          0             NaN   \n",
              "2                     0              0.0          0             NaN   \n",
              "3                     0              0.0          0             NaN   \n",
              "\n",
              "  DEPARTAMENTO_ULT_ATE PROVINCIA_ULT_ATE DISTRITO_ULT_ATE  NIVEL_ULT_ATE  \n",
              "0                  NaN               NaN              NaN            NaN  \n",
              "1                  NaN               NaN              NaN            NaN  \n",
              "2                  NaN               NaN              NaN            NaN  \n",
              "3                  NaN               NaN              NaN            NaN  "
            ],
            "text/html": [
              "\n",
              "  <div id=\"df-16e9ea48-ebb1-44ad-9102-60e8fa6db8e6\" class=\"colab-df-container\">\n",
              "    <div>\n",
              "<style scoped>\n",
              "    .dataframe tbody tr th:only-of-type {\n",
              "        vertical-align: middle;\n",
              "    }\n",
              "\n",
              "    .dataframe tbody tr th {\n",
              "        vertical-align: top;\n",
              "    }\n",
              "\n",
              "    .dataframe thead th {\n",
              "        text-align: right;\n",
              "    }\n",
              "</style>\n",
              "<table border=\"1\" class=\"dataframe\">\n",
              "  <thead>\n",
              "    <tr style=\"text-align: right;\">\n",
              "      <th></th>\n",
              "      <th>FECHA_CORTE</th>\n",
              "      <th>FECHA_AFILIADOS_SIS</th>\n",
              "      <th>CODIGO_ANONIMIZADO</th>\n",
              "      <th>EDAD</th>\n",
              "      <th>UBIGEO</th>\n",
              "      <th>DEPARTAMENTO</th>\n",
              "      <th>PROVINCIA</th>\n",
              "      <th>DISTRITO</th>\n",
              "      <th>SEXO</th>\n",
              "      <th>FECHA_PRIMER_DX</th>\n",
              "      <th>TIPO_DIABETES</th>\n",
              "      <th>CON_DX_OBESIDAD</th>\n",
              "      <th>CON_DX_HIPERTENSION</th>\n",
              "      <th>CON_DX_SALUDMENTAL</th>\n",
              "      <th>CANT_ATENCIONES</th>\n",
              "      <th>VALOR_NETO</th>\n",
              "      <th>CANT_ATENCIONES_HOSP</th>\n",
              "      <th>VALOR_NETO_HOSP</th>\n",
              "      <th>DIAS_HOSP</th>\n",
              "      <th>UBIGEO_ULT_ATE</th>\n",
              "      <th>DEPARTAMENTO_ULT_ATE</th>\n",
              "      <th>PROVINCIA_ULT_ATE</th>\n",
              "      <th>DISTRITO_ULT_ATE</th>\n",
              "      <th>NIVEL_ULT_ATE</th>\n",
              "    </tr>\n",
              "  </thead>\n",
              "  <tbody>\n",
              "    <tr>\n",
              "      <th>0</th>\n",
              "      <td>20240426</td>\n",
              "      <td>20230331</td>\n",
              "      <td>52BAEBEF1D09B9768E7B4CF5B3513538B2C45E06EF861F...</td>\n",
              "      <td>65</td>\n",
              "      <td>70106</td>\n",
              "      <td>CALLAO</td>\n",
              "      <td>PROV. CONST. DEL CALLAO</td>\n",
              "      <td>VENTANILLA</td>\n",
              "      <td>FEMENINO</td>\n",
              "      <td>20220620</td>\n",
              "      <td>Diabetes mellitus  no especificada</td>\n",
              "      <td>NaN</td>\n",
              "      <td>NaN</td>\n",
              "      <td>NaN</td>\n",
              "      <td>0</td>\n",
              "      <td>0.0</td>\n",
              "      <td>0</td>\n",
              "      <td>0.0</td>\n",
              "      <td>0</td>\n",
              "      <td>NaN</td>\n",
              "      <td>NaN</td>\n",
              "      <td>NaN</td>\n",
              "      <td>NaN</td>\n",
              "      <td>NaN</td>\n",
              "    </tr>\n",
              "    <tr>\n",
              "      <th>1</th>\n",
              "      <td>20240426</td>\n",
              "      <td>20230331</td>\n",
              "      <td>7FD6261B4EA46FF607C1BA139B94C73CC0446E2FC7B877...</td>\n",
              "      <td>13</td>\n",
              "      <td>80907</td>\n",
              "      <td>CUSCO</td>\n",
              "      <td>LA CONVENCIÓN</td>\n",
              "      <td>KIMBIRI</td>\n",
              "      <td>MASCULINO</td>\n",
              "      <td>20221001</td>\n",
              "      <td>Diabetes mellitus tipo 2</td>\n",
              "      <td>NaN</td>\n",
              "      <td>NaN</td>\n",
              "      <td>NaN</td>\n",
              "      <td>0</td>\n",
              "      <td>0.0</td>\n",
              "      <td>0</td>\n",
              "      <td>0.0</td>\n",
              "      <td>0</td>\n",
              "      <td>NaN</td>\n",
              "      <td>NaN</td>\n",
              "      <td>NaN</td>\n",
              "      <td>NaN</td>\n",
              "      <td>NaN</td>\n",
              "    </tr>\n",
              "    <tr>\n",
              "      <th>2</th>\n",
              "      <td>20240426</td>\n",
              "      <td>20230331</td>\n",
              "      <td>FFBE798BE21A94EB56BB8A0B7FBDEC07AFB8824A688294...</td>\n",
              "      <td>96</td>\n",
              "      <td>150701</td>\n",
              "      <td>LIMA</td>\n",
              "      <td>HUAROCHIRÍ</td>\n",
              "      <td>MATUCANA</td>\n",
              "      <td>FEMENINO</td>\n",
              "      <td>20191216</td>\n",
              "      <td>Diabetes mellitus tipo 2</td>\n",
              "      <td>SI</td>\n",
              "      <td>NaN</td>\n",
              "      <td>SI</td>\n",
              "      <td>0</td>\n",
              "      <td>0.0</td>\n",
              "      <td>0</td>\n",
              "      <td>0.0</td>\n",
              "      <td>0</td>\n",
              "      <td>NaN</td>\n",
              "      <td>NaN</td>\n",
              "      <td>NaN</td>\n",
              "      <td>NaN</td>\n",
              "      <td>NaN</td>\n",
              "    </tr>\n",
              "    <tr>\n",
              "      <th>3</th>\n",
              "      <td>20240426</td>\n",
              "      <td>20230331</td>\n",
              "      <td>A063A90D386099DDBD7AEA15F5F2A96FDCA3B2E326A02C...</td>\n",
              "      <td>60</td>\n",
              "      <td>20801</td>\n",
              "      <td>ÁNCASH</td>\n",
              "      <td>CASMA</td>\n",
              "      <td>CASMA</td>\n",
              "      <td>FEMENINO</td>\n",
              "      <td>20191216</td>\n",
              "      <td>Diabetes mellitus tipo 1</td>\n",
              "      <td>NaN</td>\n",
              "      <td>SI</td>\n",
              "      <td>NaN</td>\n",
              "      <td>0</td>\n",
              "      <td>0.0</td>\n",
              "      <td>0</td>\n",
              "      <td>0.0</td>\n",
              "      <td>0</td>\n",
              "      <td>NaN</td>\n",
              "      <td>NaN</td>\n",
              "      <td>NaN</td>\n",
              "      <td>NaN</td>\n",
              "      <td>NaN</td>\n",
              "    </tr>\n",
              "  </tbody>\n",
              "</table>\n",
              "</div>\n",
              "    <div class=\"colab-df-buttons\">\n",
              "\n",
              "  <div class=\"colab-df-container\">\n",
              "    <button class=\"colab-df-convert\" onclick=\"convertToInteractive('df-16e9ea48-ebb1-44ad-9102-60e8fa6db8e6')\"\n",
              "            title=\"Convert this dataframe to an interactive table.\"\n",
              "            style=\"display:none;\">\n",
              "\n",
              "  <svg xmlns=\"http://www.w3.org/2000/svg\" height=\"24px\" viewBox=\"0 -960 960 960\">\n",
              "    <path d=\"M120-120v-720h720v720H120Zm60-500h600v-160H180v160Zm220 220h160v-160H400v160Zm0 220h160v-160H400v160ZM180-400h160v-160H180v160Zm440 0h160v-160H620v160ZM180-180h160v-160H180v160Zm440 0h160v-160H620v160Z\"/>\n",
              "  </svg>\n",
              "    </button>\n",
              "\n",
              "  <style>\n",
              "    .colab-df-container {\n",
              "      display:flex;\n",
              "      gap: 12px;\n",
              "    }\n",
              "\n",
              "    .colab-df-convert {\n",
              "      background-color: #E8F0FE;\n",
              "      border: none;\n",
              "      border-radius: 50%;\n",
              "      cursor: pointer;\n",
              "      display: none;\n",
              "      fill: #1967D2;\n",
              "      height: 32px;\n",
              "      padding: 0 0 0 0;\n",
              "      width: 32px;\n",
              "    }\n",
              "\n",
              "    .colab-df-convert:hover {\n",
              "      background-color: #E2EBFA;\n",
              "      box-shadow: 0px 1px 2px rgba(60, 64, 67, 0.3), 0px 1px 3px 1px rgba(60, 64, 67, 0.15);\n",
              "      fill: #174EA6;\n",
              "    }\n",
              "\n",
              "    .colab-df-buttons div {\n",
              "      margin-bottom: 4px;\n",
              "    }\n",
              "\n",
              "    [theme=dark] .colab-df-convert {\n",
              "      background-color: #3B4455;\n",
              "      fill: #D2E3FC;\n",
              "    }\n",
              "\n",
              "    [theme=dark] .colab-df-convert:hover {\n",
              "      background-color: #434B5C;\n",
              "      box-shadow: 0px 1px 3px 1px rgba(0, 0, 0, 0.15);\n",
              "      filter: drop-shadow(0px 1px 2px rgba(0, 0, 0, 0.3));\n",
              "      fill: #FFFFFF;\n",
              "    }\n",
              "  </style>\n",
              "\n",
              "    <script>\n",
              "      const buttonEl =\n",
              "        document.querySelector('#df-16e9ea48-ebb1-44ad-9102-60e8fa6db8e6 button.colab-df-convert');\n",
              "      buttonEl.style.display =\n",
              "        google.colab.kernel.accessAllowed ? 'block' : 'none';\n",
              "\n",
              "      async function convertToInteractive(key) {\n",
              "        const element = document.querySelector('#df-16e9ea48-ebb1-44ad-9102-60e8fa6db8e6');\n",
              "        const dataTable =\n",
              "          await google.colab.kernel.invokeFunction('convertToInteractive',\n",
              "                                                    [key], {});\n",
              "        if (!dataTable) return;\n",
              "\n",
              "        const docLinkHtml = 'Like what you see? Visit the ' +\n",
              "          '<a target=\"_blank\" href=https://colab.research.google.com/notebooks/data_table.ipynb>data table notebook</a>'\n",
              "          + ' to learn more about interactive tables.';\n",
              "        element.innerHTML = '';\n",
              "        dataTable['output_type'] = 'display_data';\n",
              "        await google.colab.output.renderOutput(dataTable, element);\n",
              "        const docLink = document.createElement('div');\n",
              "        docLink.innerHTML = docLinkHtml;\n",
              "        element.appendChild(docLink);\n",
              "      }\n",
              "    </script>\n",
              "  </div>\n",
              "\n",
              "\n",
              "<div id=\"df-63e713c6-8383-4edd-a574-edfa53f828b1\">\n",
              "  <button class=\"colab-df-quickchart\" onclick=\"quickchart('df-63e713c6-8383-4edd-a574-edfa53f828b1')\"\n",
              "            title=\"Suggest charts\"\n",
              "            style=\"display:none;\">\n",
              "\n",
              "<svg xmlns=\"http://www.w3.org/2000/svg\" height=\"24px\"viewBox=\"0 0 24 24\"\n",
              "     width=\"24px\">\n",
              "    <g>\n",
              "        <path d=\"M19 3H5c-1.1 0-2 .9-2 2v14c0 1.1.9 2 2 2h14c1.1 0 2-.9 2-2V5c0-1.1-.9-2-2-2zM9 17H7v-7h2v7zm4 0h-2V7h2v10zm4 0h-2v-4h2v4z\"/>\n",
              "    </g>\n",
              "</svg>\n",
              "  </button>\n",
              "\n",
              "<style>\n",
              "  .colab-df-quickchart {\n",
              "      --bg-color: #E8F0FE;\n",
              "      --fill-color: #1967D2;\n",
              "      --hover-bg-color: #E2EBFA;\n",
              "      --hover-fill-color: #174EA6;\n",
              "      --disabled-fill-color: #AAA;\n",
              "      --disabled-bg-color: #DDD;\n",
              "  }\n",
              "\n",
              "  [theme=dark] .colab-df-quickchart {\n",
              "      --bg-color: #3B4455;\n",
              "      --fill-color: #D2E3FC;\n",
              "      --hover-bg-color: #434B5C;\n",
              "      --hover-fill-color: #FFFFFF;\n",
              "      --disabled-bg-color: #3B4455;\n",
              "      --disabled-fill-color: #666;\n",
              "  }\n",
              "\n",
              "  .colab-df-quickchart {\n",
              "    background-color: var(--bg-color);\n",
              "    border: none;\n",
              "    border-radius: 50%;\n",
              "    cursor: pointer;\n",
              "    display: none;\n",
              "    fill: var(--fill-color);\n",
              "    height: 32px;\n",
              "    padding: 0;\n",
              "    width: 32px;\n",
              "  }\n",
              "\n",
              "  .colab-df-quickchart:hover {\n",
              "    background-color: var(--hover-bg-color);\n",
              "    box-shadow: 0 1px 2px rgba(60, 64, 67, 0.3), 0 1px 3px 1px rgba(60, 64, 67, 0.15);\n",
              "    fill: var(--button-hover-fill-color);\n",
              "  }\n",
              "\n",
              "  .colab-df-quickchart-complete:disabled,\n",
              "  .colab-df-quickchart-complete:disabled:hover {\n",
              "    background-color: var(--disabled-bg-color);\n",
              "    fill: var(--disabled-fill-color);\n",
              "    box-shadow: none;\n",
              "  }\n",
              "\n",
              "  .colab-df-spinner {\n",
              "    border: 2px solid var(--fill-color);\n",
              "    border-color: transparent;\n",
              "    border-bottom-color: var(--fill-color);\n",
              "    animation:\n",
              "      spin 1s steps(1) infinite;\n",
              "  }\n",
              "\n",
              "  @keyframes spin {\n",
              "    0% {\n",
              "      border-color: transparent;\n",
              "      border-bottom-color: var(--fill-color);\n",
              "      border-left-color: var(--fill-color);\n",
              "    }\n",
              "    20% {\n",
              "      border-color: transparent;\n",
              "      border-left-color: var(--fill-color);\n",
              "      border-top-color: var(--fill-color);\n",
              "    }\n",
              "    30% {\n",
              "      border-color: transparent;\n",
              "      border-left-color: var(--fill-color);\n",
              "      border-top-color: var(--fill-color);\n",
              "      border-right-color: var(--fill-color);\n",
              "    }\n",
              "    40% {\n",
              "      border-color: transparent;\n",
              "      border-right-color: var(--fill-color);\n",
              "      border-top-color: var(--fill-color);\n",
              "    }\n",
              "    60% {\n",
              "      border-color: transparent;\n",
              "      border-right-color: var(--fill-color);\n",
              "    }\n",
              "    80% {\n",
              "      border-color: transparent;\n",
              "      border-right-color: var(--fill-color);\n",
              "      border-bottom-color: var(--fill-color);\n",
              "    }\n",
              "    90% {\n",
              "      border-color: transparent;\n",
              "      border-bottom-color: var(--fill-color);\n",
              "    }\n",
              "  }\n",
              "</style>\n",
              "\n",
              "  <script>\n",
              "    async function quickchart(key) {\n",
              "      const quickchartButtonEl =\n",
              "        document.querySelector('#' + key + ' button');\n",
              "      quickchartButtonEl.disabled = true;  // To prevent multiple clicks.\n",
              "      quickchartButtonEl.classList.add('colab-df-spinner');\n",
              "      try {\n",
              "        const charts = await google.colab.kernel.invokeFunction(\n",
              "            'suggestCharts', [key], {});\n",
              "      } catch (error) {\n",
              "        console.error('Error during call to suggestCharts:', error);\n",
              "      }\n",
              "      quickchartButtonEl.classList.remove('colab-df-spinner');\n",
              "      quickchartButtonEl.classList.add('colab-df-quickchart-complete');\n",
              "    }\n",
              "    (() => {\n",
              "      let quickchartButtonEl =\n",
              "        document.querySelector('#df-63e713c6-8383-4edd-a574-edfa53f828b1 button');\n",
              "      quickchartButtonEl.style.display =\n",
              "        google.colab.kernel.accessAllowed ? 'block' : 'none';\n",
              "    })();\n",
              "  </script>\n",
              "</div>\n",
              "\n",
              "    </div>\n",
              "  </div>\n"
            ],
            "application/vnd.google.colaboratory.intrinsic+json": {
              "type": "dataframe",
              "variable_name": "diabetes"
            }
          },
          "metadata": {},
          "execution_count": 47
        }
      ]
    },
    {
      "cell_type": "code",
      "source": [
        "diabetes.info()"
      ],
      "metadata": {
        "colab": {
          "base_uri": "https://localhost:8080/"
        },
        "id": "TzIxnSrTxmU4",
        "outputId": "0f110e68-f036-43ff-8a92-a6ed37d7cef8"
      },
      "execution_count": 48,
      "outputs": [
        {
          "output_type": "stream",
          "name": "stdout",
          "text": [
            "<class 'pandas.core.frame.DataFrame'>\n",
            "RangeIndex: 1735940 entries, 0 to 1735939\n",
            "Data columns (total 24 columns):\n",
            " #   Column                Dtype  \n",
            "---  ------                -----  \n",
            " 0   FECHA_CORTE           int64  \n",
            " 1   FECHA_AFILIADOS_SIS   int64  \n",
            " 2   CODIGO_ANONIMIZADO    object \n",
            " 3   EDAD                  int64  \n",
            " 4   UBIGEO                int64  \n",
            " 5   DEPARTAMENTO          object \n",
            " 6   PROVINCIA             object \n",
            " 7   DISTRITO              object \n",
            " 8   SEXO                  object \n",
            " 9   FECHA_PRIMER_DX       int64  \n",
            " 10  TIPO_DIABETES         object \n",
            " 11  CON_DX_OBESIDAD       object \n",
            " 12  CON_DX_HIPERTENSION   object \n",
            " 13  CON_DX_SALUDMENTAL    object \n",
            " 14  CANT_ATENCIONES       int64  \n",
            " 15  VALOR_NETO            float64\n",
            " 16  CANT_ATENCIONES_HOSP  int64  \n",
            " 17  VALOR_NETO_HOSP       float64\n",
            " 18  DIAS_HOSP             int64  \n",
            " 19  UBIGEO_ULT_ATE        float64\n",
            " 20  DEPARTAMENTO_ULT_ATE  object \n",
            " 21  PROVINCIA_ULT_ATE     object \n",
            " 22  DISTRITO_ULT_ATE      object \n",
            " 23  NIVEL_ULT_ATE         float64\n",
            "dtypes: float64(4), int64(8), object(12)\n",
            "memory usage: 317.9+ MB\n"
          ]
        }
      ]
    },
    {
      "cell_type": "code",
      "source": [
        "# columnas a ser sacadas/eliminadas\n",
        "sacar_cols = ['FECHA_CORTE', 'FECHA_AFILIADOS_SIS', 'UBIGEO_ULT_ATE', 'DEPARTAMENTO_ULT_ATE', 'PROVINCIA_ULT_ATE', 'DISTRITO_ULT_ATE', 'NIVEL_ULT_ATE']"
      ],
      "metadata": {
        "id": "KtT42HQe-ugi"
      },
      "execution_count": 55,
      "outputs": []
    },
    {
      "cell_type": "code",
      "source": [
        "diabetes.drop(columns=sacar_cols, inplace=True)"
      ],
      "metadata": {
        "id": "kAaMoxem_evJ"
      },
      "execution_count": 56,
      "outputs": []
    },
    {
      "cell_type": "code",
      "source": [
        "# detalles con las columnas removidas\n",
        "diabetes.info()"
      ],
      "metadata": {
        "colab": {
          "base_uri": "https://localhost:8080/"
        },
        "id": "kjnOoVTW_xwV",
        "outputId": "57c2b5b2-9b70-49a4-d78d-108ec342437c"
      },
      "execution_count": 57,
      "outputs": [
        {
          "output_type": "stream",
          "name": "stdout",
          "text": [
            "<class 'pandas.core.frame.DataFrame'>\n",
            "RangeIndex: 1735940 entries, 0 to 1735939\n",
            "Data columns (total 17 columns):\n",
            " #   Column                Dtype  \n",
            "---  ------                -----  \n",
            " 0   CODIGO_ANONIMIZADO    object \n",
            " 1   EDAD                  int64  \n",
            " 2   UBIGEO                int64  \n",
            " 3   DEPARTAMENTO          object \n",
            " 4   PROVINCIA             object \n",
            " 5   DISTRITO              object \n",
            " 6   SEXO                  object \n",
            " 7   FECHA_PRIMER_DX       int64  \n",
            " 8   TIPO_DIABETES         object \n",
            " 9   CON_DX_OBESIDAD       object \n",
            " 10  CON_DX_HIPERTENSION   object \n",
            " 11  CON_DX_SALUDMENTAL    object \n",
            " 12  CANT_ATENCIONES       int64  \n",
            " 13  VALOR_NETO            float64\n",
            " 14  CANT_ATENCIONES_HOSP  int64  \n",
            " 15  VALOR_NETO_HOSP       float64\n",
            " 16  DIAS_HOSP             int64  \n",
            "dtypes: float64(2), int64(6), object(9)\n",
            "memory usage: 225.2+ MB\n"
          ]
        }
      ]
    },
    {
      "cell_type": "code",
      "source": [
        "# visualización columnas con valores nulos\n",
        "diabetes.isna().sum()"
      ],
      "metadata": {
        "colab": {
          "base_uri": "https://localhost:8080/",
          "height": 617
        },
        "id": "2F-5o1g0ydwI",
        "outputId": "971d6e5a-57bd-4913-dbf6-77be0a09a908"
      },
      "execution_count": 58,
      "outputs": [
        {
          "output_type": "execute_result",
          "data": {
            "text/plain": [
              "CODIGO_ANONIMIZADO            0\n",
              "EDAD                          0\n",
              "UBIGEO                        0\n",
              "DEPARTAMENTO                  0\n",
              "PROVINCIA                     0\n",
              "DISTRITO                      0\n",
              "SEXO                          0\n",
              "FECHA_PRIMER_DX               0\n",
              "TIPO_DIABETES                 0\n",
              "CON_DX_OBESIDAD          633509\n",
              "CON_DX_HIPERTENSION     1080678\n",
              "CON_DX_SALUDMENTAL      1357231\n",
              "CANT_ATENCIONES               0\n",
              "VALOR_NETO                    0\n",
              "CANT_ATENCIONES_HOSP          0\n",
              "VALOR_NETO_HOSP               0\n",
              "DIAS_HOSP                     0\n",
              "dtype: int64"
            ],
            "text/html": [
              "<div>\n",
              "<style scoped>\n",
              "    .dataframe tbody tr th:only-of-type {\n",
              "        vertical-align: middle;\n",
              "    }\n",
              "\n",
              "    .dataframe tbody tr th {\n",
              "        vertical-align: top;\n",
              "    }\n",
              "\n",
              "    .dataframe thead th {\n",
              "        text-align: right;\n",
              "    }\n",
              "</style>\n",
              "<table border=\"1\" class=\"dataframe\">\n",
              "  <thead>\n",
              "    <tr style=\"text-align: right;\">\n",
              "      <th></th>\n",
              "      <th>0</th>\n",
              "    </tr>\n",
              "  </thead>\n",
              "  <tbody>\n",
              "    <tr>\n",
              "      <th>CODIGO_ANONIMIZADO</th>\n",
              "      <td>0</td>\n",
              "    </tr>\n",
              "    <tr>\n",
              "      <th>EDAD</th>\n",
              "      <td>0</td>\n",
              "    </tr>\n",
              "    <tr>\n",
              "      <th>UBIGEO</th>\n",
              "      <td>0</td>\n",
              "    </tr>\n",
              "    <tr>\n",
              "      <th>DEPARTAMENTO</th>\n",
              "      <td>0</td>\n",
              "    </tr>\n",
              "    <tr>\n",
              "      <th>PROVINCIA</th>\n",
              "      <td>0</td>\n",
              "    </tr>\n",
              "    <tr>\n",
              "      <th>DISTRITO</th>\n",
              "      <td>0</td>\n",
              "    </tr>\n",
              "    <tr>\n",
              "      <th>SEXO</th>\n",
              "      <td>0</td>\n",
              "    </tr>\n",
              "    <tr>\n",
              "      <th>FECHA_PRIMER_DX</th>\n",
              "      <td>0</td>\n",
              "    </tr>\n",
              "    <tr>\n",
              "      <th>TIPO_DIABETES</th>\n",
              "      <td>0</td>\n",
              "    </tr>\n",
              "    <tr>\n",
              "      <th>CON_DX_OBESIDAD</th>\n",
              "      <td>633509</td>\n",
              "    </tr>\n",
              "    <tr>\n",
              "      <th>CON_DX_HIPERTENSION</th>\n",
              "      <td>1080678</td>\n",
              "    </tr>\n",
              "    <tr>\n",
              "      <th>CON_DX_SALUDMENTAL</th>\n",
              "      <td>1357231</td>\n",
              "    </tr>\n",
              "    <tr>\n",
              "      <th>CANT_ATENCIONES</th>\n",
              "      <td>0</td>\n",
              "    </tr>\n",
              "    <tr>\n",
              "      <th>VALOR_NETO</th>\n",
              "      <td>0</td>\n",
              "    </tr>\n",
              "    <tr>\n",
              "      <th>CANT_ATENCIONES_HOSP</th>\n",
              "      <td>0</td>\n",
              "    </tr>\n",
              "    <tr>\n",
              "      <th>VALOR_NETO_HOSP</th>\n",
              "      <td>0</td>\n",
              "    </tr>\n",
              "    <tr>\n",
              "      <th>DIAS_HOSP</th>\n",
              "      <td>0</td>\n",
              "    </tr>\n",
              "  </tbody>\n",
              "</table>\n",
              "</div><br><label><b>dtype:</b> int64</label>"
            ]
          },
          "metadata": {},
          "execution_count": 58
        }
      ]
    },
    {
      "cell_type": "code",
      "source": [
        "# creación de variable objetivo\n",
        "diabetes['objetivo'] = diabetes['DIAS_HOSP'].apply(lambda x: 1 if x > 0 else 0)"
      ],
      "metadata": {
        "id": "Vj3gQefE98Ai"
      },
      "execution_count": 60,
      "outputs": []
    },
    {
      "cell_type": "code",
      "source": [
        "# distribución de valores en la variable\n",
        "diabetes['objetivo'].value_counts()"
      ],
      "metadata": {
        "colab": {
          "base_uri": "https://localhost:8080/",
          "height": 178
        },
        "id": "XvB-2y6HAHLz",
        "outputId": "26b2d501-89ea-4975-967d-9ee736591f5d"
      },
      "execution_count": 61,
      "outputs": [
        {
          "output_type": "execute_result",
          "data": {
            "text/plain": [
              "objetivo\n",
              "0    1709458\n",
              "1      26482\n",
              "Name: count, dtype: int64"
            ],
            "text/html": [
              "<div>\n",
              "<style scoped>\n",
              "    .dataframe tbody tr th:only-of-type {\n",
              "        vertical-align: middle;\n",
              "    }\n",
              "\n",
              "    .dataframe tbody tr th {\n",
              "        vertical-align: top;\n",
              "    }\n",
              "\n",
              "    .dataframe thead th {\n",
              "        text-align: right;\n",
              "    }\n",
              "</style>\n",
              "<table border=\"1\" class=\"dataframe\">\n",
              "  <thead>\n",
              "    <tr style=\"text-align: right;\">\n",
              "      <th></th>\n",
              "      <th>count</th>\n",
              "    </tr>\n",
              "    <tr>\n",
              "      <th>objetivo</th>\n",
              "      <th></th>\n",
              "    </tr>\n",
              "  </thead>\n",
              "  <tbody>\n",
              "    <tr>\n",
              "      <th>0</th>\n",
              "      <td>1709458</td>\n",
              "    </tr>\n",
              "    <tr>\n",
              "      <th>1</th>\n",
              "      <td>26482</td>\n",
              "    </tr>\n",
              "  </tbody>\n",
              "</table>\n",
              "</div><br><label><b>dtype:</b> int64</label>"
            ]
          },
          "metadata": {},
          "execution_count": 61
        }
      ]
    },
    {
      "cell_type": "code",
      "source": [
        "# datos duplicados\n",
        "diabetes.duplicated().sum()"
      ],
      "metadata": {
        "colab": {
          "base_uri": "https://localhost:8080/"
        },
        "id": "3sE8jwxPA8xX",
        "outputId": "8275c249-24b2-43eb-ca76-cb4c233f6a32"
      },
      "execution_count": 66,
      "outputs": [
        {
          "output_type": "execute_result",
          "data": {
            "text/plain": [
              "432219"
            ]
          },
          "metadata": {},
          "execution_count": 66
        }
      ]
    },
    {
      "cell_type": "code",
      "source": [
        "# data frame sin duplicados\n",
        "diabetes_no_duplicados = diabetes.drop_duplicates(keep='first')"
      ],
      "metadata": {
        "id": "7zDMbPeRA-53"
      },
      "execution_count": 67,
      "outputs": []
    },
    {
      "cell_type": "code",
      "source": [
        "diabetes_no_duplicados.duplicated().sum()"
      ],
      "metadata": {
        "colab": {
          "base_uri": "https://localhost:8080/"
        },
        "id": "3LcWwgkkA-XF",
        "outputId": "b750c940-a895-4395-bd25-2ade75035550"
      },
      "execution_count": 68,
      "outputs": [
        {
          "output_type": "execute_result",
          "data": {
            "text/plain": [
              "0"
            ]
          },
          "metadata": {},
          "execution_count": 68
        }
      ]
    },
    {
      "cell_type": "code",
      "source": [],
      "metadata": {
        "id": "Ux5QTXKpB_Bd"
      },
      "execution_count": null,
      "outputs": []
    },
    {
      "cell_type": "code",
      "source": [],
      "metadata": {
        "id": "_adzaTgNB_fX"
      },
      "execution_count": null,
      "outputs": []
    },
    {
      "cell_type": "code",
      "source": [],
      "metadata": {
        "id": "IQr35d_MA-aZ"
      },
      "execution_count": null,
      "outputs": []
    },
    {
      "cell_type": "code",
      "source": [
        "#diabetes['TIPO_DIABETES'].value_counts()"
      ],
      "metadata": {
        "id": "_W9uOrT3yKbI"
      },
      "execution_count": 69,
      "outputs": []
    },
    {
      "cell_type": "markdown",
      "source": [
        "Observaciones:\n",
        "\n",
        "...\n"
      ],
      "metadata": {
        "id": "g82M2jbrzjIY"
      }
    }
  ]
}