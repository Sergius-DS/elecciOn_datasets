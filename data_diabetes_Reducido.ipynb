{
  "cells": [
    {
      "cell_type": "markdown",
      "metadata": {
        "id": "view-in-github",
        "colab_type": "text"
      },
      "source": [
        "<a href=\"https://colab.research.google.com/github/Sergius-DS/elecciOn_datasets/blob/main/data_diabetes_Reducido.ipynb\" target=\"_parent\"><img src=\"https://colab.research.google.com/assets/colab-badge.svg\" alt=\"Open In Colab\"/></a>"
      ]
    },
    {
      "cell_type": "code",
      "execution_count": null,
      "metadata": {
        "id": "aj65H2mRY9-5"
      },
      "outputs": [],
      "source": [
        "import numpy as np\n",
        "import pandas as pd\n",
        "#import matplotlib.pyplot as plt\n",
        "#import seaborn as sns\n",
        "import warnings\n",
        "warnings.filterwarnings('ignore')\n",
        "pd.set_option('display.max_columns', None)\n",
        "pd.set_option('display.float_format', '{:.2f}'.format)\n",
        "\n",
        "from sklearn.model_selection import train_test_split"
      ]
    },
    {
      "cell_type": "code",
      "execution_count": null,
      "metadata": {
        "id": "5xf0ayB2Y9-6"
      },
      "outputs": [],
      "source": [
        "data = pd.read_csv('Afiliados_activos_DM_SIS.csv')"
      ]
    },
    {
      "cell_type": "code",
      "execution_count": null,
      "metadata": {
        "id": "jNaoVuGeY9-7",
        "outputId": "5cca08b8-7f66-4ee1-a6f1-47f97aba8aa8"
      },
      "outputs": [
        {
          "data": {
            "text/html": [
              "<div>\n",
              "<style scoped>\n",
              "    .dataframe tbody tr th:only-of-type {\n",
              "        vertical-align: middle;\n",
              "    }\n",
              "\n",
              "    .dataframe tbody tr th {\n",
              "        vertical-align: top;\n",
              "    }\n",
              "\n",
              "    .dataframe thead th {\n",
              "        text-align: right;\n",
              "    }\n",
              "</style>\n",
              "<table border=\"1\" class=\"dataframe\">\n",
              "  <thead>\n",
              "    <tr style=\"text-align: right;\">\n",
              "      <th></th>\n",
              "      <th>FECHA_CORTE</th>\n",
              "      <th>FECHA_AFILIADOS_SIS</th>\n",
              "      <th>CODIGO_ANONIMIZADO</th>\n",
              "      <th>EDAD</th>\n",
              "      <th>UBIGEO</th>\n",
              "      <th>DEPARTAMENTO</th>\n",
              "      <th>PROVINCIA</th>\n",
              "      <th>DISTRITO</th>\n",
              "      <th>SEXO</th>\n",
              "      <th>FECHA_PRIMER_DX</th>\n",
              "      <th>TIPO_DIABETES</th>\n",
              "      <th>CON_DX_OBESIDAD</th>\n",
              "      <th>CON_DX_HIPERTENSION</th>\n",
              "      <th>CON_DX_SALUDMENTAL</th>\n",
              "      <th>CANT_ATENCIONES</th>\n",
              "      <th>VALOR_NETO</th>\n",
              "      <th>CANT_ATENCIONES_HOSP</th>\n",
              "      <th>VALOR_NETO_HOSP</th>\n",
              "      <th>DIAS_HOSP</th>\n",
              "      <th>UBIGEO_ULT_ATE</th>\n",
              "      <th>DEPARTAMENTO_ULT_ATE</th>\n",
              "      <th>PROVINCIA_ULT_ATE</th>\n",
              "      <th>DISTRITO_ULT_ATE</th>\n",
              "      <th>NIVEL_ULT_ATE</th>\n",
              "    </tr>\n",
              "  </thead>\n",
              "  <tbody>\n",
              "    <tr>\n",
              "      <th>0</th>\n",
              "      <td>20240426</td>\n",
              "      <td>20230331</td>\n",
              "      <td>52BAEBEF1D09B9768E7B4CF5B3513538B2C45E06EF861F...</td>\n",
              "      <td>65</td>\n",
              "      <td>70106</td>\n",
              "      <td>CALLAO</td>\n",
              "      <td>PROV. CONST. DEL CALLAO</td>\n",
              "      <td>VENTANILLA</td>\n",
              "      <td>FEMENINO</td>\n",
              "      <td>20220620</td>\n",
              "      <td>Diabetes mellitus  no especificada</td>\n",
              "      <td>NaN</td>\n",
              "      <td>NaN</td>\n",
              "      <td>NaN</td>\n",
              "      <td>0</td>\n",
              "      <td>0.00</td>\n",
              "      <td>0</td>\n",
              "      <td>0.00</td>\n",
              "      <td>0</td>\n",
              "      <td>NaN</td>\n",
              "      <td>NaN</td>\n",
              "      <td>NaN</td>\n",
              "      <td>NaN</td>\n",
              "      <td>NaN</td>\n",
              "    </tr>\n",
              "    <tr>\n",
              "      <th>1</th>\n",
              "      <td>20240426</td>\n",
              "      <td>20230331</td>\n",
              "      <td>7FD6261B4EA46FF607C1BA139B94C73CC0446E2FC7B877...</td>\n",
              "      <td>13</td>\n",
              "      <td>80907</td>\n",
              "      <td>CUSCO</td>\n",
              "      <td>LA CONVENCIÓN</td>\n",
              "      <td>KIMBIRI</td>\n",
              "      <td>MASCULINO</td>\n",
              "      <td>20221001</td>\n",
              "      <td>Diabetes mellitus tipo 2</td>\n",
              "      <td>NaN</td>\n",
              "      <td>NaN</td>\n",
              "      <td>NaN</td>\n",
              "      <td>0</td>\n",
              "      <td>0.00</td>\n",
              "      <td>0</td>\n",
              "      <td>0.00</td>\n",
              "      <td>0</td>\n",
              "      <td>NaN</td>\n",
              "      <td>NaN</td>\n",
              "      <td>NaN</td>\n",
              "      <td>NaN</td>\n",
              "      <td>NaN</td>\n",
              "    </tr>\n",
              "    <tr>\n",
              "      <th>2</th>\n",
              "      <td>20240426</td>\n",
              "      <td>20230331</td>\n",
              "      <td>FFBE798BE21A94EB56BB8A0B7FBDEC07AFB8824A688294...</td>\n",
              "      <td>96</td>\n",
              "      <td>150701</td>\n",
              "      <td>LIMA</td>\n",
              "      <td>HUAROCHIRÍ</td>\n",
              "      <td>MATUCANA</td>\n",
              "      <td>FEMENINO</td>\n",
              "      <td>20191216</td>\n",
              "      <td>Diabetes mellitus tipo 2</td>\n",
              "      <td>SI</td>\n",
              "      <td>NaN</td>\n",
              "      <td>SI</td>\n",
              "      <td>0</td>\n",
              "      <td>0.00</td>\n",
              "      <td>0</td>\n",
              "      <td>0.00</td>\n",
              "      <td>0</td>\n",
              "      <td>NaN</td>\n",
              "      <td>NaN</td>\n",
              "      <td>NaN</td>\n",
              "      <td>NaN</td>\n",
              "      <td>NaN</td>\n",
              "    </tr>\n",
              "    <tr>\n",
              "      <th>3</th>\n",
              "      <td>20240426</td>\n",
              "      <td>20230331</td>\n",
              "      <td>A063A90D386099DDBD7AEA15F5F2A96FDCA3B2E326A02C...</td>\n",
              "      <td>60</td>\n",
              "      <td>20801</td>\n",
              "      <td>ÁNCASH</td>\n",
              "      <td>CASMA</td>\n",
              "      <td>CASMA</td>\n",
              "      <td>FEMENINO</td>\n",
              "      <td>20191216</td>\n",
              "      <td>Diabetes mellitus tipo 1</td>\n",
              "      <td>NaN</td>\n",
              "      <td>SI</td>\n",
              "      <td>NaN</td>\n",
              "      <td>0</td>\n",
              "      <td>0.00</td>\n",
              "      <td>0</td>\n",
              "      <td>0.00</td>\n",
              "      <td>0</td>\n",
              "      <td>NaN</td>\n",
              "      <td>NaN</td>\n",
              "      <td>NaN</td>\n",
              "      <td>NaN</td>\n",
              "      <td>NaN</td>\n",
              "    </tr>\n",
              "    <tr>\n",
              "      <th>4</th>\n",
              "      <td>20240426</td>\n",
              "      <td>20230331</td>\n",
              "      <td>648654B6F9D7538441DAA9987966AD163941F0755C809B...</td>\n",
              "      <td>56</td>\n",
              "      <td>70101</td>\n",
              "      <td>CALLAO</td>\n",
              "      <td>PROV. CONST. DEL CALLAO</td>\n",
              "      <td>CALLAO</td>\n",
              "      <td>MASCULINO</td>\n",
              "      <td>20181029</td>\n",
              "      <td>Diabetes mellitus  no especificada</td>\n",
              "      <td>SI</td>\n",
              "      <td>SI</td>\n",
              "      <td>NaN</td>\n",
              "      <td>1</td>\n",
              "      <td>17.73</td>\n",
              "      <td>0</td>\n",
              "      <td>0.00</td>\n",
              "      <td>0</td>\n",
              "      <td>70101.00</td>\n",
              "      <td>CALLAO</td>\n",
              "      <td>PROV. CONST. DEL CALLAO</td>\n",
              "      <td>CALLAO</td>\n",
              "      <td>1.00</td>\n",
              "    </tr>\n",
              "  </tbody>\n",
              "</table>\n",
              "</div>"
            ],
            "text/plain": [
              "   FECHA_CORTE  FECHA_AFILIADOS_SIS  \\\n",
              "0     20240426             20230331   \n",
              "1     20240426             20230331   \n",
              "2     20240426             20230331   \n",
              "3     20240426             20230331   \n",
              "4     20240426             20230331   \n",
              "\n",
              "                                  CODIGO_ANONIMIZADO  EDAD  UBIGEO  \\\n",
              "0  52BAEBEF1D09B9768E7B4CF5B3513538B2C45E06EF861F...    65   70106   \n",
              "1  7FD6261B4EA46FF607C1BA139B94C73CC0446E2FC7B877...    13   80907   \n",
              "2  FFBE798BE21A94EB56BB8A0B7FBDEC07AFB8824A688294...    96  150701   \n",
              "3  A063A90D386099DDBD7AEA15F5F2A96FDCA3B2E326A02C...    60   20801   \n",
              "4  648654B6F9D7538441DAA9987966AD163941F0755C809B...    56   70101   \n",
              "\n",
              "  DEPARTAMENTO                PROVINCIA    DISTRITO       SEXO  \\\n",
              "0       CALLAO  PROV. CONST. DEL CALLAO  VENTANILLA   FEMENINO   \n",
              "1        CUSCO            LA CONVENCIÓN     KIMBIRI  MASCULINO   \n",
              "2         LIMA               HUAROCHIRÍ    MATUCANA   FEMENINO   \n",
              "3       ÁNCASH                    CASMA       CASMA   FEMENINO   \n",
              "4       CALLAO  PROV. CONST. DEL CALLAO      CALLAO  MASCULINO   \n",
              "\n",
              "   FECHA_PRIMER_DX                       TIPO_DIABETES CON_DX_OBESIDAD  \\\n",
              "0         20220620  Diabetes mellitus  no especificada             NaN   \n",
              "1         20221001            Diabetes mellitus tipo 2             NaN   \n",
              "2         20191216            Diabetes mellitus tipo 2              SI   \n",
              "3         20191216            Diabetes mellitus tipo 1             NaN   \n",
              "4         20181029  Diabetes mellitus  no especificada              SI   \n",
              "\n",
              "  CON_DX_HIPERTENSION CON_DX_SALUDMENTAL  CANT_ATENCIONES  VALOR_NETO  \\\n",
              "0                 NaN                NaN                0        0.00   \n",
              "1                 NaN                NaN                0        0.00   \n",
              "2                 NaN                 SI                0        0.00   \n",
              "3                  SI                NaN                0        0.00   \n",
              "4                  SI                NaN                1       17.73   \n",
              "\n",
              "   CANT_ATENCIONES_HOSP  VALOR_NETO_HOSP  DIAS_HOSP  UBIGEO_ULT_ATE  \\\n",
              "0                     0             0.00          0             NaN   \n",
              "1                     0             0.00          0             NaN   \n",
              "2                     0             0.00          0             NaN   \n",
              "3                     0             0.00          0             NaN   \n",
              "4                     0             0.00          0        70101.00   \n",
              "\n",
              "  DEPARTAMENTO_ULT_ATE        PROVINCIA_ULT_ATE DISTRITO_ULT_ATE  \\\n",
              "0                  NaN                      NaN              NaN   \n",
              "1                  NaN                      NaN              NaN   \n",
              "2                  NaN                      NaN              NaN   \n",
              "3                  NaN                      NaN              NaN   \n",
              "4               CALLAO  PROV. CONST. DEL CALLAO           CALLAO   \n",
              "\n",
              "   NIVEL_ULT_ATE  \n",
              "0            NaN  \n",
              "1            NaN  \n",
              "2            NaN  \n",
              "3            NaN  \n",
              "4           1.00  "
            ]
          },
          "execution_count": 206,
          "metadata": {},
          "output_type": "execute_result"
        }
      ],
      "source": [
        "data.head()\n"
      ]
    },
    {
      "cell_type": "code",
      "execution_count": null,
      "metadata": {
        "id": "LSaTXFXjY9-7",
        "outputId": "efdb1502-c857-499b-cc4c-7917f4ce7ab5"
      },
      "outputs": [
        {
          "data": {
            "text/plain": [
              "(1735940, 24)"
            ]
          },
          "execution_count": 207,
          "metadata": {},
          "output_type": "execute_result"
        }
      ],
      "source": [
        "data.shape"
      ]
    },
    {
      "cell_type": "code",
      "execution_count": null,
      "metadata": {
        "id": "nhZk8MEWY9-7",
        "outputId": "c4eb66fd-db7f-4e55-98e3-2ec795e3dffc"
      },
      "outputs": [
        {
          "name": "stdout",
          "output_type": "stream",
          "text": [
            "<class 'pandas.core.frame.DataFrame'>\n",
            "RangeIndex: 1735940 entries, 0 to 1735939\n",
            "Data columns (total 24 columns):\n",
            " #   Column                Dtype  \n",
            "---  ------                -----  \n",
            " 0   FECHA_CORTE           int64  \n",
            " 1   FECHA_AFILIADOS_SIS   int64  \n",
            " 2   CODIGO_ANONIMIZADO    object \n",
            " 3   EDAD                  int64  \n",
            " 4   UBIGEO                int64  \n",
            " 5   DEPARTAMENTO          object \n",
            " 6   PROVINCIA             object \n",
            " 7   DISTRITO              object \n",
            " 8   SEXO                  object \n",
            " 9   FECHA_PRIMER_DX       int64  \n",
            " 10  TIPO_DIABETES         object \n",
            " 11  CON_DX_OBESIDAD       object \n",
            " 12  CON_DX_HIPERTENSION   object \n",
            " 13  CON_DX_SALUDMENTAL    object \n",
            " 14  CANT_ATENCIONES       int64  \n",
            " 15  VALOR_NETO            float64\n",
            " 16  CANT_ATENCIONES_HOSP  int64  \n",
            " 17  VALOR_NETO_HOSP       float64\n",
            " 18  DIAS_HOSP             int64  \n",
            " 19  UBIGEO_ULT_ATE        float64\n",
            " 20  DEPARTAMENTO_ULT_ATE  object \n",
            " 21  PROVINCIA_ULT_ATE     object \n",
            " 22  DISTRITO_ULT_ATE      object \n",
            " 23  NIVEL_ULT_ATE         float64\n",
            "dtypes: float64(4), int64(8), object(12)\n",
            "memory usage: 317.9+ MB\n"
          ]
        }
      ],
      "source": [
        "data.info()"
      ]
    },
    {
      "cell_type": "code",
      "execution_count": null,
      "metadata": {
        "id": "x7oqj34RY9-7",
        "outputId": "8656156f-1fb1-4167-d4da-6622f59d0c9d"
      },
      "outputs": [
        {
          "data": {
            "text/plain": [
              "FECHA_CORTE\n",
              "20240426    1735940\n",
              "Name: count, dtype: int64"
            ]
          },
          "execution_count": 209,
          "metadata": {},
          "output_type": "execute_result"
        }
      ],
      "source": [
        "data.FECHA_CORTE.value_counts()"
      ]
    },
    {
      "cell_type": "code",
      "execution_count": null,
      "metadata": {
        "id": "CAdNJ5saY9-8"
      },
      "outputs": [],
      "source": [
        "data.drop('FECHA_CORTE', axis=1, inplace=True)"
      ]
    },
    {
      "cell_type": "code",
      "execution_count": null,
      "metadata": {
        "id": "3-XLr89MY9-8",
        "outputId": "56d73c2f-f339-4a12-bceb-b9bca7eba138"
      },
      "outputs": [
        {
          "data": {
            "text/plain": [
              "DEPARTAMENTO\n",
              "LIMA             668296\n",
              "PIURA            134433\n",
              "LA LIBERTAD      116812\n",
              "CALLAO            89114\n",
              "SAN MARTÍN        76216\n",
              "LORETO            68298\n",
              "ÁNCASH            66793\n",
              "LAMBAYEQUE        65688\n",
              "ICA               52180\n",
              "AREQUIPA          49804\n",
              "CAJAMARCA         48102\n",
              "JUNÍN             45480\n",
              "UCAYALI           35020\n",
              "CUSCO             33150\n",
              "HUÁNUCO           27102\n",
              "TUMBES            25163\n",
              "PUNO              22772\n",
              "AYACUCHO          21604\n",
              "TACNA             21353\n",
              "AMAZONAS          16648\n",
              "MADRE DE DIOS     13469\n",
              "APURÍMAC          11308\n",
              "MOQUEGUA          10767\n",
              "PASCO              8334\n",
              "HUANCAVELICA       8034\n",
              "Name: count, dtype: int64"
            ]
          },
          "execution_count": 211,
          "metadata": {},
          "output_type": "execute_result"
        }
      ],
      "source": [
        "data.DEPARTAMENTO.value_counts()"
      ]
    },
    {
      "cell_type": "code",
      "execution_count": null,
      "metadata": {
        "id": "UgUWcd-9Y9-8",
        "outputId": "b5de0acf-17a3-4c1f-efe6-4cdd53f29f49"
      },
      "outputs": [
        {
          "data": {
            "text/plain": [
              "DIAS_HOSP\n",
              "0      1709458\n",
              "3         2266\n",
              "4         2136\n",
              "2         1977\n",
              "5         1929\n",
              "        ...   \n",
              "134          1\n",
              "113          1\n",
              "128          1\n",
              "182          1\n",
              "138          1\n",
              "Name: count, Length: 161, dtype: int64"
            ]
          },
          "execution_count": 212,
          "metadata": {},
          "output_type": "execute_result"
        }
      ],
      "source": [
        "data.DIAS_HOSP.value_counts()"
      ]
    },
    {
      "cell_type": "code",
      "execution_count": null,
      "metadata": {
        "id": "PhhNiHJeY9-8"
      },
      "outputs": [],
      "source": [
        "# Creando  la nueva columna HOSPITALIZADO\n",
        "data['HOSPITALIZADO'] = data['DIAS_HOSP'].apply(lambda x: 1 if x > 0 else 0)"
      ]
    },
    {
      "cell_type": "code",
      "execution_count": null,
      "metadata": {
        "id": "vNKISztgY9-8",
        "outputId": "994dae9f-86ee-447e-b044-09c63509f25e"
      },
      "outputs": [
        {
          "data": {
            "text/plain": [
              "HOSPITALIZADO\n",
              "0    1709458\n",
              "1      26482\n",
              "Name: count, dtype: int64"
            ]
          },
          "execution_count": 214,
          "metadata": {},
          "output_type": "execute_result"
        }
      ],
      "source": [
        "data.HOSPITALIZADO.value_counts()"
      ]
    },
    {
      "cell_type": "code",
      "execution_count": null,
      "metadata": {
        "id": "5Ik7o43yY9-8",
        "outputId": "71cfa2b4-e159-4e63-cdce-4351d89d09a9"
      },
      "outputs": [
        {
          "data": {
            "text/plain": [
              "FECHA_AFILIADOS_SIS           0\n",
              "CODIGO_ANONIMIZADO            0\n",
              "EDAD                          0\n",
              "UBIGEO                        0\n",
              "DEPARTAMENTO                  0\n",
              "PROVINCIA                     0\n",
              "DISTRITO                      0\n",
              "SEXO                          0\n",
              "FECHA_PRIMER_DX               0\n",
              "TIPO_DIABETES                 0\n",
              "CON_DX_OBESIDAD          633509\n",
              "CON_DX_HIPERTENSION     1080678\n",
              "CON_DX_SALUDMENTAL      1357231\n",
              "CANT_ATENCIONES               0\n",
              "VALOR_NETO                    0\n",
              "CANT_ATENCIONES_HOSP          0\n",
              "VALOR_NETO_HOSP               0\n",
              "DIAS_HOSP                     0\n",
              "UBIGEO_ULT_ATE          1214440\n",
              "DEPARTAMENTO_ULT_ATE    1214440\n",
              "PROVINCIA_ULT_ATE       1214440\n",
              "DISTRITO_ULT_ATE        1214440\n",
              "NIVEL_ULT_ATE           1214444\n",
              "HOSPITALIZADO                 0\n",
              "dtype: int64"
            ]
          },
          "execution_count": 215,
          "metadata": {},
          "output_type": "execute_result"
        }
      ],
      "source": [
        "data.isnull().sum()"
      ]
    },
    {
      "cell_type": "code",
      "execution_count": null,
      "metadata": {
        "id": "r6NGSVg3Y9-8",
        "outputId": "33ec2b78-24f6-4c9d-d7c7-3e7c417a6139"
      },
      "outputs": [
        {
          "data": {
            "text/plain": [
              "FECHA_AFILIADOS_SIS     0.00\n",
              "CODIGO_ANONIMIZADO      0.00\n",
              "EDAD                    0.00\n",
              "UBIGEO                  0.00\n",
              "DEPARTAMENTO            0.00\n",
              "PROVINCIA               0.00\n",
              "DISTRITO                0.00\n",
              "SEXO                    0.00\n",
              "FECHA_PRIMER_DX         0.00\n",
              "TIPO_DIABETES           0.00\n",
              "CON_DX_OBESIDAD        36.49\n",
              "CON_DX_HIPERTENSION    62.25\n",
              "CON_DX_SALUDMENTAL     78.18\n",
              "CANT_ATENCIONES         0.00\n",
              "VALOR_NETO              0.00\n",
              "CANT_ATENCIONES_HOSP    0.00\n",
              "VALOR_NETO_HOSP         0.00\n",
              "DIAS_HOSP               0.00\n",
              "UBIGEO_ULT_ATE         69.96\n",
              "DEPARTAMENTO_ULT_ATE   69.96\n",
              "PROVINCIA_ULT_ATE      69.96\n",
              "DISTRITO_ULT_ATE       69.96\n",
              "NIVEL_ULT_ATE          69.96\n",
              "HOSPITALIZADO           0.00\n",
              "dtype: float64"
            ]
          },
          "execution_count": 216,
          "metadata": {},
          "output_type": "execute_result"
        }
      ],
      "source": [
        "missing_percentage = (data.isnull().sum() / len(data)) * 100\n",
        "missing_percentage"
      ]
    },
    {
      "cell_type": "code",
      "execution_count": null,
      "metadata": {
        "id": "55WX48JkY9-9",
        "outputId": "730402d6-8fd6-45ee-ebae-3e03b8f92d71"
      },
      "outputs": [
        {
          "data": {
            "text/plain": [
              "np.int64(0)"
            ]
          },
          "execution_count": 217,
          "metadata": {},
          "output_type": "execute_result"
        }
      ],
      "source": [
        "data.duplicated().sum()"
      ]
    },
    {
      "cell_type": "code",
      "execution_count": null,
      "metadata": {
        "id": "ZjdeLxnxY9-9",
        "outputId": "3b2810a1-8f46-4993-a2d2-ccb8907c806b"
      },
      "outputs": [
        {
          "data": {
            "text/plain": [
              "CON_DX_HIPERTENSION\n",
              "SI    655262\n",
              "Name: count, dtype: int64"
            ]
          },
          "execution_count": 218,
          "metadata": {},
          "output_type": "execute_result"
        }
      ],
      "source": [
        "data.CON_DX_HIPERTENSION.value_counts()"
      ]
    },
    {
      "cell_type": "code",
      "execution_count": null,
      "metadata": {
        "id": "MEb74tcuY9-9",
        "outputId": "722d5ae6-2f58-4310-928a-e380cb460382"
      },
      "outputs": [
        {
          "data": {
            "text/plain": [
              "CON_DX_OBESIDAD\n",
              "SI    1102431\n",
              "Name: count, dtype: int64"
            ]
          },
          "execution_count": 219,
          "metadata": {},
          "output_type": "execute_result"
        }
      ],
      "source": [
        "data.CON_DX_OBESIDAD.value_counts()"
      ]
    },
    {
      "cell_type": "code",
      "execution_count": null,
      "metadata": {
        "id": "zdeaTqv4Y9-9",
        "outputId": "d320b6d4-1f74-40cd-ea09-e985c35a3dfe"
      },
      "outputs": [
        {
          "name": "stdout",
          "output_type": "stream",
          "text": [
            "   CON_DX_OBESIDAD  CON_DX_HIPERTENSION  CON_DX_SALUDMENTAL\n",
            "0                0                    0                   0\n",
            "1                0                    0                   0\n",
            "2                1                    0                   1\n",
            "3                0                    1                   0\n",
            "4                1                    1                   0\n"
          ]
        }
      ],
      "source": [
        "# Lista de columnas a transformar\n",
        "columns_to_transform = ['CON_DX_OBESIDAD', 'CON_DX_HIPERTENSION', 'CON_DX_SALUDMENTAL']\n",
        "\n",
        "# Reemplazar valores y convertir a entero\n",
        "for column in columns_to_transform:\n",
        "    data[column] = data[column].apply(lambda x: 1 if x == 'SI' else 0).astype(int)\n",
        "\n",
        "# Verifica las primeras filas para confirmar la transformación\n",
        "print(data[columns_to_transform].head())"
      ]
    },
    {
      "cell_type": "code",
      "execution_count": null,
      "metadata": {
        "id": "NEXMONp3Y9-9",
        "outputId": "352a1374-a32b-4837-ac63-68283fb5ade5"
      },
      "outputs": [
        {
          "name": "stdout",
          "output_type": "stream",
          "text": [
            "<class 'pandas.core.frame.DataFrame'>\n",
            "RangeIndex: 1735940 entries, 0 to 1735939\n",
            "Data columns (total 24 columns):\n",
            " #   Column                Dtype  \n",
            "---  ------                -----  \n",
            " 0   FECHA_AFILIADOS_SIS   int64  \n",
            " 1   CODIGO_ANONIMIZADO    object \n",
            " 2   EDAD                  int64  \n",
            " 3   UBIGEO                int64  \n",
            " 4   DEPARTAMENTO          object \n",
            " 5   PROVINCIA             object \n",
            " 6   DISTRITO              object \n",
            " 7   SEXO                  object \n",
            " 8   FECHA_PRIMER_DX       int64  \n",
            " 9   TIPO_DIABETES         object \n",
            " 10  CON_DX_OBESIDAD       int64  \n",
            " 11  CON_DX_HIPERTENSION   int64  \n",
            " 12  CON_DX_SALUDMENTAL    int64  \n",
            " 13  CANT_ATENCIONES       int64  \n",
            " 14  VALOR_NETO            float64\n",
            " 15  CANT_ATENCIONES_HOSP  int64  \n",
            " 16  VALOR_NETO_HOSP       float64\n",
            " 17  DIAS_HOSP             int64  \n",
            " 18  UBIGEO_ULT_ATE        float64\n",
            " 19  DEPARTAMENTO_ULT_ATE  object \n",
            " 20  PROVINCIA_ULT_ATE     object \n",
            " 21  DISTRITO_ULT_ATE      object \n",
            " 22  NIVEL_ULT_ATE         float64\n",
            " 23  HOSPITALIZADO         int64  \n",
            "dtypes: float64(4), int64(11), object(9)\n",
            "memory usage: 317.9+ MB\n"
          ]
        }
      ],
      "source": [
        "data.info()"
      ]
    },
    {
      "cell_type": "code",
      "execution_count": null,
      "metadata": {
        "id": "zOz4r6q4Y9-9",
        "outputId": "f5915552-c369-4a0d-e490-bddd161c00e1"
      },
      "outputs": [
        {
          "data": {
            "text/plain": [
              "FECHA_AFILIADOS_SIS           0\n",
              "CODIGO_ANONIMIZADO            0\n",
              "EDAD                          0\n",
              "UBIGEO                        0\n",
              "DEPARTAMENTO                  0\n",
              "PROVINCIA                     0\n",
              "DISTRITO                      0\n",
              "SEXO                          0\n",
              "FECHA_PRIMER_DX               0\n",
              "TIPO_DIABETES                 0\n",
              "CON_DX_OBESIDAD               0\n",
              "CON_DX_HIPERTENSION           0\n",
              "CON_DX_SALUDMENTAL            0\n",
              "CANT_ATENCIONES               0\n",
              "VALOR_NETO                    0\n",
              "CANT_ATENCIONES_HOSP          0\n",
              "VALOR_NETO_HOSP               0\n",
              "DIAS_HOSP                     0\n",
              "UBIGEO_ULT_ATE          1214440\n",
              "DEPARTAMENTO_ULT_ATE    1214440\n",
              "PROVINCIA_ULT_ATE       1214440\n",
              "DISTRITO_ULT_ATE        1214440\n",
              "NIVEL_ULT_ATE           1214444\n",
              "HOSPITALIZADO                 0\n",
              "dtype: int64"
            ]
          },
          "execution_count": 222,
          "metadata": {},
          "output_type": "execute_result"
        }
      ],
      "source": [
        "data.isna().sum()"
      ]
    },
    {
      "cell_type": "code",
      "execution_count": null,
      "metadata": {
        "id": "VNpaZ762Y9-9",
        "outputId": "b4ac30f4-6985-4632-c911-f10ba026fc52"
      },
      "outputs": [
        {
          "data": {
            "text/plain": [
              "UBIGEO_ULT_ATE\n",
              "150132.00    19316\n",
              "150101.00    18549\n",
              "150135.00    14012\n",
              "150103.00    13963\n",
              "150133.00    12881\n",
              "             ...  \n",
              "120805.00        1\n",
              "100322.00        1\n",
              "90110.00         1\n",
              "21407.00         1\n",
              "160702.00        1\n",
              "Name: count, Length: 1774, dtype: int64"
            ]
          },
          "execution_count": 223,
          "metadata": {},
          "output_type": "execute_result"
        }
      ],
      "source": [
        "data.UBIGEO_ULT_ATE.value_counts()"
      ]
    },
    {
      "cell_type": "code",
      "execution_count": null,
      "metadata": {
        "id": "bGCFO0bpY9-9"
      },
      "outputs": [],
      "source": [
        "# Eliminamos las columnas referidas\n",
        "data.drop(['UBIGEO','UBIGEO_ULT_ATE', 'DEPARTAMENTO_ULT_ATE', 'PROVINCIA_ULT_ATE', 'DISTRITO_ULT_ATE', 'NIVEL_ULT_ATE'], axis=1, inplace=True)"
      ]
    },
    {
      "cell_type": "code",
      "execution_count": null,
      "metadata": {
        "id": "GYzWbytgY9-9",
        "outputId": "8339321d-e7d2-4c6d-9e6b-0998f6709235"
      },
      "outputs": [
        {
          "name": "stdout",
          "output_type": "stream",
          "text": [
            "<class 'pandas.core.frame.DataFrame'>\n",
            "RangeIndex: 1735940 entries, 0 to 1735939\n",
            "Data columns (total 18 columns):\n",
            " #   Column                Dtype  \n",
            "---  ------                -----  \n",
            " 0   FECHA_AFILIADOS_SIS   int64  \n",
            " 1   CODIGO_ANONIMIZADO    object \n",
            " 2   EDAD                  int64  \n",
            " 3   DEPARTAMENTO          object \n",
            " 4   PROVINCIA             object \n",
            " 5   DISTRITO              object \n",
            " 6   SEXO                  object \n",
            " 7   FECHA_PRIMER_DX       int64  \n",
            " 8   TIPO_DIABETES         object \n",
            " 9   CON_DX_OBESIDAD       int64  \n",
            " 10  CON_DX_HIPERTENSION   int64  \n",
            " 11  CON_DX_SALUDMENTAL    int64  \n",
            " 12  CANT_ATENCIONES       int64  \n",
            " 13  VALOR_NETO            float64\n",
            " 14  CANT_ATENCIONES_HOSP  int64  \n",
            " 15  VALOR_NETO_HOSP       float64\n",
            " 16  DIAS_HOSP             int64  \n",
            " 17  HOSPITALIZADO         int64  \n",
            "dtypes: float64(2), int64(10), object(6)\n",
            "memory usage: 238.4+ MB\n"
          ]
        }
      ],
      "source": [
        "data.info()"
      ]
    },
    {
      "cell_type": "code",
      "execution_count": null,
      "metadata": {
        "id": "E4qgJh10Y9-9",
        "outputId": "6f049b46-a608-4a7c-c316-6ece4e8ad235"
      },
      "outputs": [
        {
          "data": {
            "text/html": [
              "<div>\n",
              "<style scoped>\n",
              "    .dataframe tbody tr th:only-of-type {\n",
              "        vertical-align: middle;\n",
              "    }\n",
              "\n",
              "    .dataframe tbody tr th {\n",
              "        vertical-align: top;\n",
              "    }\n",
              "\n",
              "    .dataframe thead th {\n",
              "        text-align: right;\n",
              "    }\n",
              "</style>\n",
              "<table border=\"1\" class=\"dataframe\">\n",
              "  <thead>\n",
              "    <tr style=\"text-align: right;\">\n",
              "      <th></th>\n",
              "      <th>FECHA_AFILIADOS_SIS</th>\n",
              "      <th>EDAD</th>\n",
              "      <th>FECHA_PRIMER_DX</th>\n",
              "      <th>CON_DX_OBESIDAD</th>\n",
              "      <th>CON_DX_HIPERTENSION</th>\n",
              "      <th>CON_DX_SALUDMENTAL</th>\n",
              "      <th>CANT_ATENCIONES</th>\n",
              "      <th>VALOR_NETO</th>\n",
              "      <th>CANT_ATENCIONES_HOSP</th>\n",
              "      <th>VALOR_NETO_HOSP</th>\n",
              "      <th>DIAS_HOSP</th>\n",
              "      <th>HOSPITALIZADO</th>\n",
              "    </tr>\n",
              "  </thead>\n",
              "  <tbody>\n",
              "    <tr>\n",
              "      <th>count</th>\n",
              "      <td>1735940.00</td>\n",
              "      <td>1735940.00</td>\n",
              "      <td>1735940.00</td>\n",
              "      <td>1735940.00</td>\n",
              "      <td>1735940.00</td>\n",
              "      <td>1735940.00</td>\n",
              "      <td>1735940.00</td>\n",
              "      <td>1735940.00</td>\n",
              "      <td>1735940.00</td>\n",
              "      <td>1735940.00</td>\n",
              "      <td>1735940.00</td>\n",
              "      <td>1735940.00</td>\n",
              "    </tr>\n",
              "    <tr>\n",
              "      <th>mean</th>\n",
              "      <td>20230640.14</td>\n",
              "      <td>55.75</td>\n",
              "      <td>20203280.89</td>\n",
              "      <td>0.64</td>\n",
              "      <td>0.38</td>\n",
              "      <td>0.22</td>\n",
              "      <td>0.56</td>\n",
              "      <td>52.88</td>\n",
              "      <td>0.02</td>\n",
              "      <td>40.63</td>\n",
              "      <td>0.18</td>\n",
              "      <td>0.02</td>\n",
              "    </tr>\n",
              "    <tr>\n",
              "      <th>std</th>\n",
              "      <td>244.34</td>\n",
              "      <td>16.81</td>\n",
              "      <td>17695.02</td>\n",
              "      <td>0.48</td>\n",
              "      <td>0.48</td>\n",
              "      <td>0.41</td>\n",
              "      <td>1.15</td>\n",
              "      <td>821.75</td>\n",
              "      <td>0.15</td>\n",
              "      <td>811.69</td>\n",
              "      <td>2.58</td>\n",
              "      <td>0.12</td>\n",
              "    </tr>\n",
              "    <tr>\n",
              "      <th>min</th>\n",
              "      <td>20230331.00</td>\n",
              "      <td>0.00</td>\n",
              "      <td>20180101.00</td>\n",
              "      <td>0.00</td>\n",
              "      <td>0.00</td>\n",
              "      <td>0.00</td>\n",
              "      <td>0.00</td>\n",
              "      <td>0.00</td>\n",
              "      <td>0.00</td>\n",
              "      <td>0.00</td>\n",
              "      <td>0.00</td>\n",
              "      <td>0.00</td>\n",
              "    </tr>\n",
              "    <tr>\n",
              "      <th>25%</th>\n",
              "      <td>20230331.00</td>\n",
              "      <td>46.00</td>\n",
              "      <td>20190122.00</td>\n",
              "      <td>0.00</td>\n",
              "      <td>0.00</td>\n",
              "      <td>0.00</td>\n",
              "      <td>0.00</td>\n",
              "      <td>0.00</td>\n",
              "      <td>0.00</td>\n",
              "      <td>0.00</td>\n",
              "      <td>0.00</td>\n",
              "      <td>0.00</td>\n",
              "    </tr>\n",
              "    <tr>\n",
              "      <th>50%</th>\n",
              "      <td>20230630.00</td>\n",
              "      <td>57.00</td>\n",
              "      <td>20201019.00</td>\n",
              "      <td>1.00</td>\n",
              "      <td>0.00</td>\n",
              "      <td>0.00</td>\n",
              "      <td>0.00</td>\n",
              "      <td>0.00</td>\n",
              "      <td>0.00</td>\n",
              "      <td>0.00</td>\n",
              "      <td>0.00</td>\n",
              "      <td>0.00</td>\n",
              "    </tr>\n",
              "    <tr>\n",
              "      <th>75%</th>\n",
              "      <td>20230930.00</td>\n",
              "      <td>68.00</td>\n",
              "      <td>20220523.00</td>\n",
              "      <td>1.00</td>\n",
              "      <td>1.00</td>\n",
              "      <td>0.00</td>\n",
              "      <td>1.00</td>\n",
              "      <td>0.00</td>\n",
              "      <td>0.00</td>\n",
              "      <td>0.00</td>\n",
              "      <td>0.00</td>\n",
              "      <td>0.00</td>\n",
              "    </tr>\n",
              "    <tr>\n",
              "      <th>max</th>\n",
              "      <td>20230930.00</td>\n",
              "      <td>119.00</td>\n",
              "      <td>20230930.00</td>\n",
              "      <td>1.00</td>\n",
              "      <td>1.00</td>\n",
              "      <td>1.00</td>\n",
              "      <td>134.00</td>\n",
              "      <td>232695.27</td>\n",
              "      <td>13.00</td>\n",
              "      <td>232695.27</td>\n",
              "      <td>378.00</td>\n",
              "      <td>1.00</td>\n",
              "    </tr>\n",
              "  </tbody>\n",
              "</table>\n",
              "</div>"
            ],
            "text/plain": [
              "       FECHA_AFILIADOS_SIS       EDAD  FECHA_PRIMER_DX  CON_DX_OBESIDAD  \\\n",
              "count           1735940.00 1735940.00       1735940.00       1735940.00   \n",
              "mean           20230640.14      55.75      20203280.89             0.64   \n",
              "std                 244.34      16.81         17695.02             0.48   \n",
              "min            20230331.00       0.00      20180101.00             0.00   \n",
              "25%            20230331.00      46.00      20190122.00             0.00   \n",
              "50%            20230630.00      57.00      20201019.00             1.00   \n",
              "75%            20230930.00      68.00      20220523.00             1.00   \n",
              "max            20230930.00     119.00      20230930.00             1.00   \n",
              "\n",
              "       CON_DX_HIPERTENSION  CON_DX_SALUDMENTAL  CANT_ATENCIONES  VALOR_NETO  \\\n",
              "count           1735940.00          1735940.00       1735940.00  1735940.00   \n",
              "mean                  0.38                0.22             0.56       52.88   \n",
              "std                   0.48                0.41             1.15      821.75   \n",
              "min                   0.00                0.00             0.00        0.00   \n",
              "25%                   0.00                0.00             0.00        0.00   \n",
              "50%                   0.00                0.00             0.00        0.00   \n",
              "75%                   1.00                0.00             1.00        0.00   \n",
              "max                   1.00                1.00           134.00   232695.27   \n",
              "\n",
              "       CANT_ATENCIONES_HOSP  VALOR_NETO_HOSP  DIAS_HOSP  HOSPITALIZADO  \n",
              "count            1735940.00       1735940.00 1735940.00     1735940.00  \n",
              "mean                   0.02            40.63       0.18           0.02  \n",
              "std                    0.15           811.69       2.58           0.12  \n",
              "min                    0.00             0.00       0.00           0.00  \n",
              "25%                    0.00             0.00       0.00           0.00  \n",
              "50%                    0.00             0.00       0.00           0.00  \n",
              "75%                    0.00             0.00       0.00           0.00  \n",
              "max                   13.00        232695.27     378.00           1.00  "
            ]
          },
          "execution_count": 226,
          "metadata": {},
          "output_type": "execute_result"
        }
      ],
      "source": [
        "data.describe()"
      ]
    },
    {
      "cell_type": "code",
      "execution_count": null,
      "metadata": {
        "id": "bkhI2IVcY9--"
      },
      "outputs": [],
      "source": [
        "# Lista de columnas de fechas\n",
        "date_columns = ['FECHA_AFILIADOS_SIS', 'FECHA_PRIMER_DX']\n",
        "\n",
        "# Convertir a datetime y formatear\n",
        "for col in date_columns:\n",
        "    data[col] = pd.to_datetime(data[col], format='%Y%m%d', errors='coerce')  # Asumiendo formato AAAAMMDD\n"
      ]
    },
    {
      "cell_type": "code",
      "execution_count": null,
      "metadata": {
        "id": "FtHR_KY_Y9--",
        "outputId": "e1c32f0e-2b64-4ea4-8430-3e690f20d83d"
      },
      "outputs": [
        {
          "data": {
            "text/html": [
              "<div>\n",
              "<style scoped>\n",
              "    .dataframe tbody tr th:only-of-type {\n",
              "        vertical-align: middle;\n",
              "    }\n",
              "\n",
              "    .dataframe tbody tr th {\n",
              "        vertical-align: top;\n",
              "    }\n",
              "\n",
              "    .dataframe thead th {\n",
              "        text-align: right;\n",
              "    }\n",
              "</style>\n",
              "<table border=\"1\" class=\"dataframe\">\n",
              "  <thead>\n",
              "    <tr style=\"text-align: right;\">\n",
              "      <th></th>\n",
              "      <th>FECHA_AFILIADOS_SIS</th>\n",
              "      <th>CODIGO_ANONIMIZADO</th>\n",
              "      <th>EDAD</th>\n",
              "      <th>DEPARTAMENTO</th>\n",
              "      <th>PROVINCIA</th>\n",
              "      <th>DISTRITO</th>\n",
              "      <th>SEXO</th>\n",
              "      <th>FECHA_PRIMER_DX</th>\n",
              "      <th>TIPO_DIABETES</th>\n",
              "      <th>CON_DX_OBESIDAD</th>\n",
              "      <th>CON_DX_HIPERTENSION</th>\n",
              "      <th>CON_DX_SALUDMENTAL</th>\n",
              "      <th>CANT_ATENCIONES</th>\n",
              "      <th>VALOR_NETO</th>\n",
              "      <th>CANT_ATENCIONES_HOSP</th>\n",
              "      <th>VALOR_NETO_HOSP</th>\n",
              "      <th>DIAS_HOSP</th>\n",
              "      <th>HOSPITALIZADO</th>\n",
              "    </tr>\n",
              "  </thead>\n",
              "  <tbody>\n",
              "    <tr>\n",
              "      <th>0</th>\n",
              "      <td>2023-03-31</td>\n",
              "      <td>52BAEBEF1D09B9768E7B4CF5B3513538B2C45E06EF861F...</td>\n",
              "      <td>65</td>\n",
              "      <td>CALLAO</td>\n",
              "      <td>PROV. CONST. DEL CALLAO</td>\n",
              "      <td>VENTANILLA</td>\n",
              "      <td>FEMENINO</td>\n",
              "      <td>2022-06-20</td>\n",
              "      <td>Diabetes mellitus  no especificada</td>\n",
              "      <td>0</td>\n",
              "      <td>0</td>\n",
              "      <td>0</td>\n",
              "      <td>0</td>\n",
              "      <td>0.00</td>\n",
              "      <td>0</td>\n",
              "      <td>0.00</td>\n",
              "      <td>0</td>\n",
              "      <td>0</td>\n",
              "    </tr>\n",
              "    <tr>\n",
              "      <th>1</th>\n",
              "      <td>2023-03-31</td>\n",
              "      <td>7FD6261B4EA46FF607C1BA139B94C73CC0446E2FC7B877...</td>\n",
              "      <td>13</td>\n",
              "      <td>CUSCO</td>\n",
              "      <td>LA CONVENCIÓN</td>\n",
              "      <td>KIMBIRI</td>\n",
              "      <td>MASCULINO</td>\n",
              "      <td>2022-10-01</td>\n",
              "      <td>Diabetes mellitus tipo 2</td>\n",
              "      <td>0</td>\n",
              "      <td>0</td>\n",
              "      <td>0</td>\n",
              "      <td>0</td>\n",
              "      <td>0.00</td>\n",
              "      <td>0</td>\n",
              "      <td>0.00</td>\n",
              "      <td>0</td>\n",
              "      <td>0</td>\n",
              "    </tr>\n",
              "    <tr>\n",
              "      <th>2</th>\n",
              "      <td>2023-03-31</td>\n",
              "      <td>FFBE798BE21A94EB56BB8A0B7FBDEC07AFB8824A688294...</td>\n",
              "      <td>96</td>\n",
              "      <td>LIMA</td>\n",
              "      <td>HUAROCHIRÍ</td>\n",
              "      <td>MATUCANA</td>\n",
              "      <td>FEMENINO</td>\n",
              "      <td>2019-12-16</td>\n",
              "      <td>Diabetes mellitus tipo 2</td>\n",
              "      <td>1</td>\n",
              "      <td>0</td>\n",
              "      <td>1</td>\n",
              "      <td>0</td>\n",
              "      <td>0.00</td>\n",
              "      <td>0</td>\n",
              "      <td>0.00</td>\n",
              "      <td>0</td>\n",
              "      <td>0</td>\n",
              "    </tr>\n",
              "    <tr>\n",
              "      <th>3</th>\n",
              "      <td>2023-03-31</td>\n",
              "      <td>A063A90D386099DDBD7AEA15F5F2A96FDCA3B2E326A02C...</td>\n",
              "      <td>60</td>\n",
              "      <td>ÁNCASH</td>\n",
              "      <td>CASMA</td>\n",
              "      <td>CASMA</td>\n",
              "      <td>FEMENINO</td>\n",
              "      <td>2019-12-16</td>\n",
              "      <td>Diabetes mellitus tipo 1</td>\n",
              "      <td>0</td>\n",
              "      <td>1</td>\n",
              "      <td>0</td>\n",
              "      <td>0</td>\n",
              "      <td>0.00</td>\n",
              "      <td>0</td>\n",
              "      <td>0.00</td>\n",
              "      <td>0</td>\n",
              "      <td>0</td>\n",
              "    </tr>\n",
              "    <tr>\n",
              "      <th>4</th>\n",
              "      <td>2023-03-31</td>\n",
              "      <td>648654B6F9D7538441DAA9987966AD163941F0755C809B...</td>\n",
              "      <td>56</td>\n",
              "      <td>CALLAO</td>\n",
              "      <td>PROV. CONST. DEL CALLAO</td>\n",
              "      <td>CALLAO</td>\n",
              "      <td>MASCULINO</td>\n",
              "      <td>2018-10-29</td>\n",
              "      <td>Diabetes mellitus  no especificada</td>\n",
              "      <td>1</td>\n",
              "      <td>1</td>\n",
              "      <td>0</td>\n",
              "      <td>1</td>\n",
              "      <td>17.73</td>\n",
              "      <td>0</td>\n",
              "      <td>0.00</td>\n",
              "      <td>0</td>\n",
              "      <td>0</td>\n",
              "    </tr>\n",
              "  </tbody>\n",
              "</table>\n",
              "</div>"
            ],
            "text/plain": [
              "  FECHA_AFILIADOS_SIS                                 CODIGO_ANONIMIZADO  \\\n",
              "0          2023-03-31  52BAEBEF1D09B9768E7B4CF5B3513538B2C45E06EF861F...   \n",
              "1          2023-03-31  7FD6261B4EA46FF607C1BA139B94C73CC0446E2FC7B877...   \n",
              "2          2023-03-31  FFBE798BE21A94EB56BB8A0B7FBDEC07AFB8824A688294...   \n",
              "3          2023-03-31  A063A90D386099DDBD7AEA15F5F2A96FDCA3B2E326A02C...   \n",
              "4          2023-03-31  648654B6F9D7538441DAA9987966AD163941F0755C809B...   \n",
              "\n",
              "   EDAD DEPARTAMENTO                PROVINCIA    DISTRITO       SEXO  \\\n",
              "0    65       CALLAO  PROV. CONST. DEL CALLAO  VENTANILLA   FEMENINO   \n",
              "1    13        CUSCO            LA CONVENCIÓN     KIMBIRI  MASCULINO   \n",
              "2    96         LIMA               HUAROCHIRÍ    MATUCANA   FEMENINO   \n",
              "3    60       ÁNCASH                    CASMA       CASMA   FEMENINO   \n",
              "4    56       CALLAO  PROV. CONST. DEL CALLAO      CALLAO  MASCULINO   \n",
              "\n",
              "  FECHA_PRIMER_DX                       TIPO_DIABETES  CON_DX_OBESIDAD  \\\n",
              "0      2022-06-20  Diabetes mellitus  no especificada                0   \n",
              "1      2022-10-01            Diabetes mellitus tipo 2                0   \n",
              "2      2019-12-16            Diabetes mellitus tipo 2                1   \n",
              "3      2019-12-16            Diabetes mellitus tipo 1                0   \n",
              "4      2018-10-29  Diabetes mellitus  no especificada                1   \n",
              "\n",
              "   CON_DX_HIPERTENSION  CON_DX_SALUDMENTAL  CANT_ATENCIONES  VALOR_NETO  \\\n",
              "0                    0                   0                0        0.00   \n",
              "1                    0                   0                0        0.00   \n",
              "2                    0                   1                0        0.00   \n",
              "3                    1                   0                0        0.00   \n",
              "4                    1                   0                1       17.73   \n",
              "\n",
              "   CANT_ATENCIONES_HOSP  VALOR_NETO_HOSP  DIAS_HOSP  HOSPITALIZADO  \n",
              "0                     0             0.00          0              0  \n",
              "1                     0             0.00          0              0  \n",
              "2                     0             0.00          0              0  \n",
              "3                     0             0.00          0              0  \n",
              "4                     0             0.00          0              0  "
            ]
          },
          "execution_count": 228,
          "metadata": {},
          "output_type": "execute_result"
        }
      ],
      "source": [
        "data.head()"
      ]
    },
    {
      "cell_type": "code",
      "execution_count": null,
      "metadata": {
        "id": "sDqAI61zY9--",
        "outputId": "697f6de7-9687-408b-f5ef-7d2350289f00"
      },
      "outputs": [
        {
          "data": {
            "text/html": [
              "<div>\n",
              "<style scoped>\n",
              "    .dataframe tbody tr th:only-of-type {\n",
              "        vertical-align: middle;\n",
              "    }\n",
              "\n",
              "    .dataframe tbody tr th {\n",
              "        vertical-align: top;\n",
              "    }\n",
              "\n",
              "    .dataframe thead th {\n",
              "        text-align: right;\n",
              "    }\n",
              "</style>\n",
              "<table border=\"1\" class=\"dataframe\">\n",
              "  <thead>\n",
              "    <tr style=\"text-align: right;\">\n",
              "      <th></th>\n",
              "      <th>FECHA_AFILIADOS_SIS</th>\n",
              "      <th>EDAD</th>\n",
              "      <th>FECHA_PRIMER_DX</th>\n",
              "      <th>CON_DX_OBESIDAD</th>\n",
              "      <th>CON_DX_HIPERTENSION</th>\n",
              "      <th>CON_DX_SALUDMENTAL</th>\n",
              "      <th>CANT_ATENCIONES</th>\n",
              "      <th>VALOR_NETO</th>\n",
              "      <th>CANT_ATENCIONES_HOSP</th>\n",
              "      <th>VALOR_NETO_HOSP</th>\n",
              "      <th>DIAS_HOSP</th>\n",
              "      <th>HOSPITALIZADO</th>\n",
              "    </tr>\n",
              "  </thead>\n",
              "  <tbody>\n",
              "    <tr>\n",
              "      <th>count</th>\n",
              "      <td>1735940</td>\n",
              "      <td>1735940.00</td>\n",
              "      <td>1735940</td>\n",
              "      <td>1735940.00</td>\n",
              "      <td>1735940.00</td>\n",
              "      <td>1735940.00</td>\n",
              "      <td>1735940.00</td>\n",
              "      <td>1735940.00</td>\n",
              "      <td>1735940.00</td>\n",
              "      <td>1735940.00</td>\n",
              "      <td>1735940.00</td>\n",
              "      <td>1735940.00</td>\n",
              "    </tr>\n",
              "    <tr>\n",
              "      <th>mean</th>\n",
              "      <td>2023-07-03 07:56:01.313409024</td>\n",
              "      <td>55.75</td>\n",
              "      <td>2020-09-19 21:01:33.047455232</td>\n",
              "      <td>0.64</td>\n",
              "      <td>0.38</td>\n",
              "      <td>0.22</td>\n",
              "      <td>0.56</td>\n",
              "      <td>52.88</td>\n",
              "      <td>0.02</td>\n",
              "      <td>40.63</td>\n",
              "      <td>0.18</td>\n",
              "      <td>0.02</td>\n",
              "    </tr>\n",
              "    <tr>\n",
              "      <th>min</th>\n",
              "      <td>2023-03-31 00:00:00</td>\n",
              "      <td>0.00</td>\n",
              "      <td>2018-01-01 00:00:00</td>\n",
              "      <td>0.00</td>\n",
              "      <td>0.00</td>\n",
              "      <td>0.00</td>\n",
              "      <td>0.00</td>\n",
              "      <td>0.00</td>\n",
              "      <td>0.00</td>\n",
              "      <td>0.00</td>\n",
              "      <td>0.00</td>\n",
              "      <td>0.00</td>\n",
              "    </tr>\n",
              "    <tr>\n",
              "      <th>25%</th>\n",
              "      <td>2023-03-31 00:00:00</td>\n",
              "      <td>46.00</td>\n",
              "      <td>2019-01-22 00:00:00</td>\n",
              "      <td>0.00</td>\n",
              "      <td>0.00</td>\n",
              "      <td>0.00</td>\n",
              "      <td>0.00</td>\n",
              "      <td>0.00</td>\n",
              "      <td>0.00</td>\n",
              "      <td>0.00</td>\n",
              "      <td>0.00</td>\n",
              "      <td>0.00</td>\n",
              "    </tr>\n",
              "    <tr>\n",
              "      <th>50%</th>\n",
              "      <td>2023-06-30 00:00:00</td>\n",
              "      <td>57.00</td>\n",
              "      <td>2020-10-19 00:00:00</td>\n",
              "      <td>1.00</td>\n",
              "      <td>0.00</td>\n",
              "      <td>0.00</td>\n",
              "      <td>0.00</td>\n",
              "      <td>0.00</td>\n",
              "      <td>0.00</td>\n",
              "      <td>0.00</td>\n",
              "      <td>0.00</td>\n",
              "      <td>0.00</td>\n",
              "    </tr>\n",
              "    <tr>\n",
              "      <th>75%</th>\n",
              "      <td>2023-09-30 00:00:00</td>\n",
              "      <td>68.00</td>\n",
              "      <td>2022-05-23 00:00:00</td>\n",
              "      <td>1.00</td>\n",
              "      <td>1.00</td>\n",
              "      <td>0.00</td>\n",
              "      <td>1.00</td>\n",
              "      <td>0.00</td>\n",
              "      <td>0.00</td>\n",
              "      <td>0.00</td>\n",
              "      <td>0.00</td>\n",
              "      <td>0.00</td>\n",
              "    </tr>\n",
              "    <tr>\n",
              "      <th>max</th>\n",
              "      <td>2023-09-30 00:00:00</td>\n",
              "      <td>119.00</td>\n",
              "      <td>2023-09-30 00:00:00</td>\n",
              "      <td>1.00</td>\n",
              "      <td>1.00</td>\n",
              "      <td>1.00</td>\n",
              "      <td>134.00</td>\n",
              "      <td>232695.27</td>\n",
              "      <td>13.00</td>\n",
              "      <td>232695.27</td>\n",
              "      <td>378.00</td>\n",
              "      <td>1.00</td>\n",
              "    </tr>\n",
              "    <tr>\n",
              "      <th>std</th>\n",
              "      <td>NaN</td>\n",
              "      <td>16.81</td>\n",
              "      <td>NaN</td>\n",
              "      <td>0.48</td>\n",
              "      <td>0.48</td>\n",
              "      <td>0.41</td>\n",
              "      <td>1.15</td>\n",
              "      <td>821.75</td>\n",
              "      <td>0.15</td>\n",
              "      <td>811.69</td>\n",
              "      <td>2.58</td>\n",
              "      <td>0.12</td>\n",
              "    </tr>\n",
              "  </tbody>\n",
              "</table>\n",
              "</div>"
            ],
            "text/plain": [
              "                 FECHA_AFILIADOS_SIS       EDAD  \\\n",
              "count                        1735940 1735940.00   \n",
              "mean   2023-07-03 07:56:01.313409024      55.75   \n",
              "min              2023-03-31 00:00:00       0.00   \n",
              "25%              2023-03-31 00:00:00      46.00   \n",
              "50%              2023-06-30 00:00:00      57.00   \n",
              "75%              2023-09-30 00:00:00      68.00   \n",
              "max              2023-09-30 00:00:00     119.00   \n",
              "std                              NaN      16.81   \n",
              "\n",
              "                     FECHA_PRIMER_DX  CON_DX_OBESIDAD  CON_DX_HIPERTENSION  \\\n",
              "count                        1735940       1735940.00           1735940.00   \n",
              "mean   2020-09-19 21:01:33.047455232             0.64                 0.38   \n",
              "min              2018-01-01 00:00:00             0.00                 0.00   \n",
              "25%              2019-01-22 00:00:00             0.00                 0.00   \n",
              "50%              2020-10-19 00:00:00             1.00                 0.00   \n",
              "75%              2022-05-23 00:00:00             1.00                 1.00   \n",
              "max              2023-09-30 00:00:00             1.00                 1.00   \n",
              "std                              NaN             0.48                 0.48   \n",
              "\n",
              "       CON_DX_SALUDMENTAL  CANT_ATENCIONES  VALOR_NETO  CANT_ATENCIONES_HOSP  \\\n",
              "count          1735940.00       1735940.00  1735940.00            1735940.00   \n",
              "mean                 0.22             0.56       52.88                  0.02   \n",
              "min                  0.00             0.00        0.00                  0.00   \n",
              "25%                  0.00             0.00        0.00                  0.00   \n",
              "50%                  0.00             0.00        0.00                  0.00   \n",
              "75%                  0.00             1.00        0.00                  0.00   \n",
              "max                  1.00           134.00   232695.27                 13.00   \n",
              "std                  0.41             1.15      821.75                  0.15   \n",
              "\n",
              "       VALOR_NETO_HOSP  DIAS_HOSP  HOSPITALIZADO  \n",
              "count       1735940.00 1735940.00     1735940.00  \n",
              "mean             40.63       0.18           0.02  \n",
              "min               0.00       0.00           0.00  \n",
              "25%               0.00       0.00           0.00  \n",
              "50%               0.00       0.00           0.00  \n",
              "75%               0.00       0.00           0.00  \n",
              "max          232695.27     378.00           1.00  \n",
              "std             811.69       2.58           0.12  "
            ]
          },
          "execution_count": 229,
          "metadata": {},
          "output_type": "execute_result"
        }
      ],
      "source": [
        "data.describe()"
      ]
    },
    {
      "cell_type": "code",
      "execution_count": null,
      "metadata": {
        "id": "YRMigt9mY9--",
        "outputId": "1c96b6ff-a273-4cfc-8c37-6cdbed03d267"
      },
      "outputs": [
        {
          "name": "stdout",
          "output_type": "stream",
          "text": [
            "CON_DX_OBESIDAD        int8\n",
            "CON_DX_HIPERTENSION    int8\n",
            "CON_DX_SALUDMENTAL     int8\n",
            "HOSPITALIZADO          int8\n",
            "dtype: object\n"
          ]
        }
      ],
      "source": [
        "# Identificar las columnas numéricas\n",
        "numeric_columns = data.select_dtypes(include=['int64', 'float64']).columns\n",
        "\n",
        "# Filtrar columnas con valores binarios (0 y 1)\n",
        "binary_columns = [\n",
        "    col for col in numeric_columns if data[col].dropna().isin([0, 1]).all()\n",
        "]\n",
        "\n",
        "# Convertir las columnas binarias a int8\n",
        "data[binary_columns] = data[binary_columns].astype('int8')\n",
        "\n",
        "# Verificar el cambio de tipo\n",
        "print(data[binary_columns].dtypes)\n"
      ]
    },
    {
      "cell_type": "code",
      "execution_count": null,
      "metadata": {
        "id": "LqfzBGDzY9--"
      },
      "outputs": [],
      "source": [
        "data['EDAD'] = data['EDAD'].astype('int8')"
      ]
    },
    {
      "cell_type": "code",
      "execution_count": null,
      "metadata": {
        "id": "pqQc8draY9--",
        "outputId": "4eae48d8-4ff9-4875-9592-af92463d4783"
      },
      "outputs": [
        {
          "name": "stdout",
          "output_type": "stream",
          "text": [
            "<class 'pandas.core.frame.DataFrame'>\n",
            "RangeIndex: 1735940 entries, 0 to 1735939\n",
            "Data columns (total 18 columns):\n",
            " #   Column                Dtype         \n",
            "---  ------                -----         \n",
            " 0   FECHA_AFILIADOS_SIS   datetime64[ns]\n",
            " 1   CODIGO_ANONIMIZADO    object        \n",
            " 2   EDAD                  int8          \n",
            " 3   DEPARTAMENTO          object        \n",
            " 4   PROVINCIA             object        \n",
            " 5   DISTRITO              object        \n",
            " 6   SEXO                  object        \n",
            " 7   FECHA_PRIMER_DX       datetime64[ns]\n",
            " 8   TIPO_DIABETES         object        \n",
            " 9   CON_DX_OBESIDAD       int8          \n",
            " 10  CON_DX_HIPERTENSION   int8          \n",
            " 11  CON_DX_SALUDMENTAL    int8          \n",
            " 12  CANT_ATENCIONES       int64         \n",
            " 13  VALOR_NETO            float64       \n",
            " 14  CANT_ATENCIONES_HOSP  int64         \n",
            " 15  VALOR_NETO_HOSP       float64       \n",
            " 16  DIAS_HOSP             int64         \n",
            " 17  HOSPITALIZADO         int8          \n",
            "dtypes: datetime64[ns](2), float64(2), int64(3), int8(5), object(6)\n",
            "memory usage: 180.5+ MB\n"
          ]
        }
      ],
      "source": [
        "data.info()"
      ]
    },
    {
      "cell_type": "code",
      "execution_count": null,
      "metadata": {
        "id": "901FVIEJY9--",
        "outputId": "8fd1d2e1-4014-4dd3-8864-cff33edb75c2"
      },
      "outputs": [
        {
          "data": {
            "text/plain": [
              "FECHA_AFILIADOS_SIS     1109984\n",
              "CODIGO_ANONIMIZADO      1109984\n",
              "EDAD                    1109984\n",
              "DEPARTAMENTO            1109984\n",
              "PROVINCIA               1109984\n",
              "DISTRITO                1109984\n",
              "SEXO                    1109984\n",
              "FECHA_PRIMER_DX         1109984\n",
              "TIPO_DIABETES           1109984\n",
              "CON_DX_OBESIDAD         1109984\n",
              "CON_DX_HIPERTENSION     1109984\n",
              "CON_DX_SALUDMENTAL      1109984\n",
              "CANT_ATENCIONES         1109984\n",
              "VALOR_NETO              1109984\n",
              "CANT_ATENCIONES_HOSP    1109984\n",
              "VALOR_NETO_HOSP         1109984\n",
              "DIAS_HOSP               1109984\n",
              "HOSPITALIZADO           1109984\n",
              "dtype: int64"
            ]
          },
          "execution_count": 233,
          "metadata": {},
          "output_type": "execute_result"
        }
      ],
      "source": [
        "data[data['CODIGO_ANONIMIZADO'].duplicated()].count()"
      ]
    },
    {
      "cell_type": "code",
      "execution_count": null,
      "metadata": {
        "id": "Ylsq6n-GY9--"
      },
      "outputs": [],
      "source": [
        "data = data[data['FECHA_AFILIADOS_SIS'] >= '2023-09-01']"
      ]
    },
    {
      "cell_type": "code",
      "execution_count": null,
      "metadata": {
        "id": "ZOjbu4wnY9--",
        "outputId": "cb69b5bc-00ee-427a-8e40-2ddf76d591f2"
      },
      "outputs": [
        {
          "data": {
            "text/plain": [
              "FECHA_AFILIADOS_SIS     0\n",
              "CODIGO_ANONIMIZADO      0\n",
              "EDAD                    0\n",
              "DEPARTAMENTO            0\n",
              "PROVINCIA               0\n",
              "DISTRITO                0\n",
              "SEXO                    0\n",
              "FECHA_PRIMER_DX         0\n",
              "TIPO_DIABETES           0\n",
              "CON_DX_OBESIDAD         0\n",
              "CON_DX_HIPERTENSION     0\n",
              "CON_DX_SALUDMENTAL      0\n",
              "CANT_ATENCIONES         0\n",
              "VALOR_NETO              0\n",
              "CANT_ATENCIONES_HOSP    0\n",
              "VALOR_NETO_HOSP         0\n",
              "DIAS_HOSP               0\n",
              "HOSPITALIZADO           0\n",
              "dtype: int64"
            ]
          },
          "execution_count": 235,
          "metadata": {},
          "output_type": "execute_result"
        }
      ],
      "source": [
        "data[data['CODIGO_ANONIMIZADO'].duplicated()].count()"
      ]
    },
    {
      "cell_type": "code",
      "execution_count": null,
      "metadata": {
        "id": "HOA_O4I_Y9--",
        "outputId": "a6365089-f365-41e3-bdb5-1ad26a7bc983"
      },
      "outputs": [
        {
          "data": {
            "text/html": [
              "<div>\n",
              "<style scoped>\n",
              "    .dataframe tbody tr th:only-of-type {\n",
              "        vertical-align: middle;\n",
              "    }\n",
              "\n",
              "    .dataframe tbody tr th {\n",
              "        vertical-align: top;\n",
              "    }\n",
              "\n",
              "    .dataframe thead th {\n",
              "        text-align: right;\n",
              "    }\n",
              "</style>\n",
              "<table border=\"1\" class=\"dataframe\">\n",
              "  <thead>\n",
              "    <tr style=\"text-align: right;\">\n",
              "      <th></th>\n",
              "      <th>FECHA_AFILIADOS_SIS</th>\n",
              "      <th>CODIGO_ANONIMIZADO</th>\n",
              "      <th>EDAD</th>\n",
              "      <th>DEPARTAMENTO</th>\n",
              "      <th>PROVINCIA</th>\n",
              "      <th>DISTRITO</th>\n",
              "      <th>SEXO</th>\n",
              "      <th>FECHA_PRIMER_DX</th>\n",
              "      <th>TIPO_DIABETES</th>\n",
              "      <th>CON_DX_OBESIDAD</th>\n",
              "      <th>CON_DX_HIPERTENSION</th>\n",
              "      <th>CON_DX_SALUDMENTAL</th>\n",
              "      <th>CANT_ATENCIONES</th>\n",
              "      <th>VALOR_NETO</th>\n",
              "      <th>CANT_ATENCIONES_HOSP</th>\n",
              "      <th>VALOR_NETO_HOSP</th>\n",
              "      <th>DIAS_HOSP</th>\n",
              "      <th>HOSPITALIZADO</th>\n",
              "    </tr>\n",
              "  </thead>\n",
              "  <tbody>\n",
              "    <tr>\n",
              "      <th>550183</th>\n",
              "      <td>2023-09-30</td>\n",
              "      <td>110D1BC55E119D0732C0B3C17A92962F4EA4C04718F08D...</td>\n",
              "      <td>55</td>\n",
              "      <td>ICA</td>\n",
              "      <td>PISCO</td>\n",
              "      <td>SAN ANDRÉS</td>\n",
              "      <td>MASCULINO</td>\n",
              "      <td>2022-03-01</td>\n",
              "      <td>Diabetes mellitus tipo 2</td>\n",
              "      <td>1</td>\n",
              "      <td>0</td>\n",
              "      <td>0</td>\n",
              "      <td>0</td>\n",
              "      <td>0.00</td>\n",
              "      <td>0</td>\n",
              "      <td>0.00</td>\n",
              "      <td>0</td>\n",
              "      <td>0</td>\n",
              "    </tr>\n",
              "  </tbody>\n",
              "</table>\n",
              "</div>"
            ],
            "text/plain": [
              "       FECHA_AFILIADOS_SIS                                 CODIGO_ANONIMIZADO  \\\n",
              "550183          2023-09-30  110D1BC55E119D0732C0B3C17A92962F4EA4C04718F08D...   \n",
              "\n",
              "        EDAD DEPARTAMENTO PROVINCIA    DISTRITO       SEXO FECHA_PRIMER_DX  \\\n",
              "550183    55          ICA     PISCO  SAN ANDRÉS  MASCULINO      2022-03-01   \n",
              "\n",
              "                   TIPO_DIABETES  CON_DX_OBESIDAD  CON_DX_HIPERTENSION  \\\n",
              "550183  Diabetes mellitus tipo 2                1                    0   \n",
              "\n",
              "        CON_DX_SALUDMENTAL  CANT_ATENCIONES  VALOR_NETO  CANT_ATENCIONES_HOSP  \\\n",
              "550183                   0                0        0.00                     0   \n",
              "\n",
              "        VALOR_NETO_HOSP  DIAS_HOSP  HOSPITALIZADO  \n",
              "550183             0.00          0              0  "
            ]
          },
          "execution_count": 236,
          "metadata": {},
          "output_type": "execute_result"
        }
      ],
      "source": [
        "data[data['CODIGO_ANONIMIZADO'] == '110D1BC55E119D0732C0B3C17A92962F4EA4C04718F08DBF632F2A1BB402BF7F']"
      ]
    },
    {
      "cell_type": "code",
      "execution_count": null,
      "metadata": {
        "id": "BjV0eD-eY9--",
        "outputId": "13ee6188-234f-463b-fbe5-956aa763afee"
      },
      "outputs": [
        {
          "data": {
            "text/html": [
              "<div>\n",
              "<style scoped>\n",
              "    .dataframe tbody tr th:only-of-type {\n",
              "        vertical-align: middle;\n",
              "    }\n",
              "\n",
              "    .dataframe tbody tr th {\n",
              "        vertical-align: top;\n",
              "    }\n",
              "\n",
              "    .dataframe thead th {\n",
              "        text-align: right;\n",
              "    }\n",
              "</style>\n",
              "<table border=\"1\" class=\"dataframe\">\n",
              "  <thead>\n",
              "    <tr style=\"text-align: right;\">\n",
              "      <th></th>\n",
              "      <th>FECHA_AFILIADOS_SIS</th>\n",
              "      <th>CODIGO_ANONIMIZADO</th>\n",
              "      <th>EDAD</th>\n",
              "      <th>DEPARTAMENTO</th>\n",
              "      <th>PROVINCIA</th>\n",
              "      <th>DISTRITO</th>\n",
              "      <th>SEXO</th>\n",
              "      <th>FECHA_PRIMER_DX</th>\n",
              "      <th>TIPO_DIABETES</th>\n",
              "      <th>CON_DX_OBESIDAD</th>\n",
              "      <th>CON_DX_HIPERTENSION</th>\n",
              "      <th>CON_DX_SALUDMENTAL</th>\n",
              "      <th>CANT_ATENCIONES</th>\n",
              "      <th>VALOR_NETO</th>\n",
              "      <th>CANT_ATENCIONES_HOSP</th>\n",
              "      <th>VALOR_NETO_HOSP</th>\n",
              "      <th>DIAS_HOSP</th>\n",
              "      <th>HOSPITALIZADO</th>\n",
              "    </tr>\n",
              "  </thead>\n",
              "  <tbody>\n",
              "    <tr>\n",
              "      <th>550331</th>\n",
              "      <td>2023-09-30</td>\n",
              "      <td>02E115774EDA02CAD46ECED7D90F38398F399115B916FF...</td>\n",
              "      <td>72</td>\n",
              "      <td>APURÍMAC</td>\n",
              "      <td>ABANCAY</td>\n",
              "      <td>ABANCAY</td>\n",
              "      <td>FEMENINO</td>\n",
              "      <td>2022-05-03</td>\n",
              "      <td>Diabetes mellitus tipo 2</td>\n",
              "      <td>0</td>\n",
              "      <td>0</td>\n",
              "      <td>0</td>\n",
              "      <td>0</td>\n",
              "      <td>0.00</td>\n",
              "      <td>0</td>\n",
              "      <td>0.00</td>\n",
              "      <td>0</td>\n",
              "      <td>0</td>\n",
              "    </tr>\n",
              "  </tbody>\n",
              "</table>\n",
              "</div>"
            ],
            "text/plain": [
              "       FECHA_AFILIADOS_SIS                                 CODIGO_ANONIMIZADO  \\\n",
              "550331          2023-09-30  02E115774EDA02CAD46ECED7D90F38398F399115B916FF...   \n",
              "\n",
              "        EDAD DEPARTAMENTO PROVINCIA DISTRITO      SEXO FECHA_PRIMER_DX  \\\n",
              "550331    72     APURÍMAC   ABANCAY  ABANCAY  FEMENINO      2022-05-03   \n",
              "\n",
              "                   TIPO_DIABETES  CON_DX_OBESIDAD  CON_DX_HIPERTENSION  \\\n",
              "550331  Diabetes mellitus tipo 2                0                    0   \n",
              "\n",
              "        CON_DX_SALUDMENTAL  CANT_ATENCIONES  VALOR_NETO  CANT_ATENCIONES_HOSP  \\\n",
              "550331                   0                0        0.00                     0   \n",
              "\n",
              "        VALOR_NETO_HOSP  DIAS_HOSP  HOSPITALIZADO  \n",
              "550331             0.00          0              0  "
            ]
          },
          "execution_count": 237,
          "metadata": {},
          "output_type": "execute_result"
        }
      ],
      "source": [
        "data[data['CODIGO_ANONIMIZADO'] == '02E115774EDA02CAD46ECED7D90F38398F399115B916FF14C0DA5F372C195B20']"
      ]
    },
    {
      "cell_type": "code",
      "execution_count": null,
      "metadata": {
        "id": "Nlz5MoXQY9--",
        "outputId": "b81ab99d-a656-46e1-9e3d-b95a3fe290cd"
      },
      "outputs": [
        {
          "data": {
            "text/plain": [
              "FECHA_AFILIADOS_SIS     6914\n",
              "CODIGO_ANONIMIZADO      6914\n",
              "EDAD                    6914\n",
              "DEPARTAMENTO            6914\n",
              "PROVINCIA               6914\n",
              "DISTRITO                6914\n",
              "SEXO                    6914\n",
              "FECHA_PRIMER_DX         6914\n",
              "TIPO_DIABETES           6914\n",
              "CON_DX_OBESIDAD         6914\n",
              "CON_DX_HIPERTENSION     6914\n",
              "CON_DX_SALUDMENTAL      6914\n",
              "CANT_ATENCIONES         6914\n",
              "VALOR_NETO              6914\n",
              "CANT_ATENCIONES_HOSP    6914\n",
              "VALOR_NETO_HOSP         6914\n",
              "DIAS_HOSP               6914\n",
              "HOSPITALIZADO           6914\n",
              "dtype: int64"
            ]
          },
          "execution_count": 238,
          "metadata": {},
          "output_type": "execute_result"
        }
      ],
      "source": [
        "data[(data['EDAD'] == 0) | (data['EDAD'] <= 11)].count()"
      ]
    },
    {
      "cell_type": "code",
      "execution_count": null,
      "metadata": {
        "id": "NQa5GjAPY9-_"
      },
      "outputs": [],
      "source": [
        "data = data[data['EDAD'] > 10]"
      ]
    },
    {
      "cell_type": "code",
      "execution_count": null,
      "metadata": {
        "id": "nwYa8aqBY9-_"
      },
      "outputs": [],
      "source": [
        "data = data[data['EDAD'] < 101]"
      ]
    },
    {
      "cell_type": "code",
      "execution_count": null,
      "metadata": {
        "id": "WYUPH5UeY9-_",
        "outputId": "a1a100f4-c3e4-470a-8107-4a7be34baa2b"
      },
      "outputs": [
        {
          "data": {
            "text/plain": [
              "count   600970.00\n",
              "mean        55.95\n",
              "std         16.17\n",
              "min         11.00\n",
              "25%         46.00\n",
              "50%         57.00\n",
              "75%         67.00\n",
              "max        100.00\n",
              "Name: EDAD, dtype: float64"
            ]
          },
          "execution_count": 241,
          "metadata": {},
          "output_type": "execute_result"
        }
      ],
      "source": [
        "data['EDAD'].describe()"
      ]
    },
    {
      "cell_type": "code",
      "execution_count": null,
      "metadata": {
        "id": "y0Boza6CY9-_",
        "outputId": "6d02b855-c910-4742-f720-d780d66694d2"
      },
      "outputs": [
        {
          "data": {
            "text/html": [
              "<div>\n",
              "<style scoped>\n",
              "    .dataframe tbody tr th:only-of-type {\n",
              "        vertical-align: middle;\n",
              "    }\n",
              "\n",
              "    .dataframe tbody tr th {\n",
              "        vertical-align: top;\n",
              "    }\n",
              "\n",
              "    .dataframe thead th {\n",
              "        text-align: right;\n",
              "    }\n",
              "</style>\n",
              "<table border=\"1\" class=\"dataframe\">\n",
              "  <thead>\n",
              "    <tr style=\"text-align: right;\">\n",
              "      <th></th>\n",
              "      <th>VALOR_NETO</th>\n",
              "      <th>VALOR_NETO_HOSP</th>\n",
              "    </tr>\n",
              "  </thead>\n",
              "  <tbody>\n",
              "    <tr>\n",
              "      <th>count</th>\n",
              "      <td>600970.00</td>\n",
              "      <td>600970.00</td>\n",
              "    </tr>\n",
              "    <tr>\n",
              "      <th>mean</th>\n",
              "      <td>51.13</td>\n",
              "      <td>39.27</td>\n",
              "    </tr>\n",
              "    <tr>\n",
              "      <th>std</th>\n",
              "      <td>774.17</td>\n",
              "      <td>761.93</td>\n",
              "    </tr>\n",
              "    <tr>\n",
              "      <th>min</th>\n",
              "      <td>0.00</td>\n",
              "      <td>0.00</td>\n",
              "    </tr>\n",
              "    <tr>\n",
              "      <th>25%</th>\n",
              "      <td>0.00</td>\n",
              "      <td>0.00</td>\n",
              "    </tr>\n",
              "    <tr>\n",
              "      <th>50%</th>\n",
              "      <td>0.00</td>\n",
              "      <td>0.00</td>\n",
              "    </tr>\n",
              "    <tr>\n",
              "      <th>75%</th>\n",
              "      <td>0.00</td>\n",
              "      <td>0.00</td>\n",
              "    </tr>\n",
              "    <tr>\n",
              "      <th>max</th>\n",
              "      <td>169866.74</td>\n",
              "      <td>169866.74</td>\n",
              "    </tr>\n",
              "  </tbody>\n",
              "</table>\n",
              "</div>"
            ],
            "text/plain": [
              "       VALOR_NETO  VALOR_NETO_HOSP\n",
              "count   600970.00        600970.00\n",
              "mean        51.13            39.27\n",
              "std        774.17           761.93\n",
              "min          0.00             0.00\n",
              "25%          0.00             0.00\n",
              "50%          0.00             0.00\n",
              "75%          0.00             0.00\n",
              "max     169866.74        169866.74"
            ]
          },
          "execution_count": 242,
          "metadata": {},
          "output_type": "execute_result"
        }
      ],
      "source": [
        "data[['VALOR_NETO', 'VALOR_NETO_HOSP']].describe()"
      ]
    },
    {
      "cell_type": "code",
      "execution_count": null,
      "metadata": {
        "id": "t0_ZPhz2Y9-_"
      },
      "outputs": [],
      "source": [
        "#quantile_75_valor_neto = data['VALOR_NETO'].quantile(0.75)"
      ]
    },
    {
      "cell_type": "code",
      "execution_count": null,
      "metadata": {
        "id": "QKcaBFvaY9-_"
      },
      "outputs": [],
      "source": [
        "quantile_95_valor_neto = data['VALOR_NETO'].quantile(0.95)"
      ]
    },
    {
      "cell_type": "code",
      "execution_count": null,
      "metadata": {
        "id": "VDJ6aYhIY9_A",
        "outputId": "a690aa38-29b2-498b-a9d0-94bc3dc177cd"
      },
      "outputs": [
        {
          "data": {
            "text/plain": [
              "1581090   169866.74\n",
              "1204767   135748.75\n",
              "1582068   130109.48\n",
              "1357314   115796.45\n",
              "1539903    86568.58\n",
              "             ...   \n",
              "1206032       94.72\n",
              "1233254       94.72\n",
              "1249420       94.70\n",
              "1735728       94.70\n",
              "1501990       94.70\n",
              "Name: VALOR_NETO, Length: 30049, dtype: float64"
            ]
          },
          "execution_count": 245,
          "metadata": {},
          "output_type": "execute_result"
        }
      ],
      "source": [
        "mayores_valores_neto = data[data['VALOR_NETO'] > quantile_95_valor_neto]['VALOR_NETO'].sort_values(ascending=False)\n",
        "mayores_valores_neto"
      ]
    },
    {
      "cell_type": "code",
      "execution_count": null,
      "metadata": {
        "id": "HmkgKnoDY9_A",
        "outputId": "b1f290b6-030b-4be0-b570-d067e24663c2"
      },
      "outputs": [
        {
          "data": {
            "text/plain": [
              "VALOR_NETO\n",
              "169866.74    1\n",
              "135748.75    1\n",
              "130109.48    1\n",
              "115796.45    1\n",
              "86568.58     1\n",
              "Name: count, dtype: int64"
            ]
          },
          "execution_count": 246,
          "metadata": {},
          "output_type": "execute_result"
        }
      ],
      "source": [
        "mayores_valores_neto.head(5).value_counts()"
      ]
    },
    {
      "cell_type": "code",
      "execution_count": null,
      "metadata": {
        "id": "sDYKwFRCY9_A",
        "outputId": "a303dd6d-88b7-4aa2-82fa-24762ddcef53"
      },
      "outputs": [
        {
          "data": {
            "text/plain": [
              "np.float64(169866.74)"
            ]
          },
          "execution_count": 247,
          "metadata": {},
          "output_type": "execute_result"
        }
      ],
      "source": [
        "data['VALOR_NETO'].max()"
      ]
    },
    {
      "cell_type": "code",
      "execution_count": null,
      "metadata": {
        "id": "uq7IaMi_Y9_A",
        "outputId": "4d5c2a47-87db-496e-8776-2b01ceaff290"
      },
      "outputs": [
        {
          "data": {
            "text/html": [
              "<div>\n",
              "<style scoped>\n",
              "    .dataframe tbody tr th:only-of-type {\n",
              "        vertical-align: middle;\n",
              "    }\n",
              "\n",
              "    .dataframe tbody tr th {\n",
              "        vertical-align: top;\n",
              "    }\n",
              "\n",
              "    .dataframe thead th {\n",
              "        text-align: right;\n",
              "    }\n",
              "</style>\n",
              "<table border=\"1\" class=\"dataframe\">\n",
              "  <thead>\n",
              "    <tr style=\"text-align: right;\">\n",
              "      <th></th>\n",
              "      <th>FECHA_AFILIADOS_SIS</th>\n",
              "      <th>CODIGO_ANONIMIZADO</th>\n",
              "      <th>EDAD</th>\n",
              "      <th>DEPARTAMENTO</th>\n",
              "      <th>PROVINCIA</th>\n",
              "      <th>DISTRITO</th>\n",
              "      <th>SEXO</th>\n",
              "      <th>FECHA_PRIMER_DX</th>\n",
              "      <th>TIPO_DIABETES</th>\n",
              "      <th>CON_DX_OBESIDAD</th>\n",
              "      <th>CON_DX_HIPERTENSION</th>\n",
              "      <th>CON_DX_SALUDMENTAL</th>\n",
              "      <th>CANT_ATENCIONES</th>\n",
              "      <th>VALOR_NETO</th>\n",
              "      <th>CANT_ATENCIONES_HOSP</th>\n",
              "      <th>VALOR_NETO_HOSP</th>\n",
              "      <th>DIAS_HOSP</th>\n",
              "      <th>HOSPITALIZADO</th>\n",
              "    </tr>\n",
              "  </thead>\n",
              "  <tbody>\n",
              "    <tr>\n",
              "      <th>1581090</th>\n",
              "      <td>2023-09-30</td>\n",
              "      <td>F8A54B544342BAE1CF8DC52802F6FC4198133E1C6473DC...</td>\n",
              "      <td>51</td>\n",
              "      <td>CAJAMARCA</td>\n",
              "      <td>CHOTA</td>\n",
              "      <td>LLAMA</td>\n",
              "      <td>FEMENINO</td>\n",
              "      <td>2018-04-16</td>\n",
              "      <td>Diabetes mellitus  no especificada</td>\n",
              "      <td>1</td>\n",
              "      <td>1</td>\n",
              "      <td>0</td>\n",
              "      <td>2</td>\n",
              "      <td>169866.74</td>\n",
              "      <td>2</td>\n",
              "      <td>169866.74</td>\n",
              "      <td>59</td>\n",
              "      <td>1</td>\n",
              "    </tr>\n",
              "  </tbody>\n",
              "</table>\n",
              "</div>"
            ],
            "text/plain": [
              "        FECHA_AFILIADOS_SIS  \\\n",
              "1581090          2023-09-30   \n",
              "\n",
              "                                        CODIGO_ANONIMIZADO  EDAD DEPARTAMENTO  \\\n",
              "1581090  F8A54B544342BAE1CF8DC52802F6FC4198133E1C6473DC...    51    CAJAMARCA   \n",
              "\n",
              "        PROVINCIA DISTRITO      SEXO FECHA_PRIMER_DX  \\\n",
              "1581090     CHOTA    LLAMA  FEMENINO      2018-04-16   \n",
              "\n",
              "                              TIPO_DIABETES  CON_DX_OBESIDAD  \\\n",
              "1581090  Diabetes mellitus  no especificada                1   \n",
              "\n",
              "         CON_DX_HIPERTENSION  CON_DX_SALUDMENTAL  CANT_ATENCIONES  VALOR_NETO  \\\n",
              "1581090                    1                   0                2   169866.74   \n",
              "\n",
              "         CANT_ATENCIONES_HOSP  VALOR_NETO_HOSP  DIAS_HOSP  HOSPITALIZADO  \n",
              "1581090                     2        169866.74         59              1  "
            ]
          },
          "execution_count": 248,
          "metadata": {},
          "output_type": "execute_result"
        }
      ],
      "source": [
        "data[data['VALOR_NETO'] == 169866.74]"
      ]
    },
    {
      "cell_type": "code",
      "execution_count": null,
      "metadata": {
        "id": "3i5L9WwHY9_A",
        "outputId": "9b69047f-64dc-4083-a69b-967d1c420ff4"
      },
      "outputs": [
        {
          "data": {
            "text/plain": [
              "np.int64(1)"
            ]
          },
          "execution_count": 249,
          "metadata": {},
          "output_type": "execute_result"
        }
      ],
      "source": [
        "(data['VALOR_NETO'] == data['VALOR_NETO'].max()).sum()"
      ]
    },
    {
      "cell_type": "code",
      "execution_count": null,
      "metadata": {
        "id": "rcPBxp89Y9_A",
        "outputId": "03782bd7-a159-49af-9ca8-91d967c2da25"
      },
      "outputs": [
        {
          "data": {
            "text/plain": [
              "np.float64(169866.74)"
            ]
          },
          "execution_count": 250,
          "metadata": {},
          "output_type": "execute_result"
        }
      ],
      "source": [
        "data['VALOR_NETO_HOSP'].max()"
      ]
    },
    {
      "cell_type": "code",
      "execution_count": null,
      "metadata": {
        "id": "CLScfoM4Y9_A",
        "outputId": "05fe319e-1dd4-4767-f631-033eb352e16f"
      },
      "outputs": [
        {
          "data": {
            "text/html": [
              "<div>\n",
              "<style scoped>\n",
              "    .dataframe tbody tr th:only-of-type {\n",
              "        vertical-align: middle;\n",
              "    }\n",
              "\n",
              "    .dataframe tbody tr th {\n",
              "        vertical-align: top;\n",
              "    }\n",
              "\n",
              "    .dataframe thead th {\n",
              "        text-align: right;\n",
              "    }\n",
              "</style>\n",
              "<table border=\"1\" class=\"dataframe\">\n",
              "  <thead>\n",
              "    <tr style=\"text-align: right;\">\n",
              "      <th></th>\n",
              "      <th>FECHA_AFILIADOS_SIS</th>\n",
              "      <th>CODIGO_ANONIMIZADO</th>\n",
              "      <th>EDAD</th>\n",
              "      <th>DEPARTAMENTO</th>\n",
              "      <th>PROVINCIA</th>\n",
              "      <th>DISTRITO</th>\n",
              "      <th>SEXO</th>\n",
              "      <th>FECHA_PRIMER_DX</th>\n",
              "      <th>TIPO_DIABETES</th>\n",
              "      <th>CON_DX_OBESIDAD</th>\n",
              "      <th>CON_DX_HIPERTENSION</th>\n",
              "      <th>CON_DX_SALUDMENTAL</th>\n",
              "      <th>CANT_ATENCIONES</th>\n",
              "      <th>VALOR_NETO</th>\n",
              "      <th>CANT_ATENCIONES_HOSP</th>\n",
              "      <th>VALOR_NETO_HOSP</th>\n",
              "      <th>DIAS_HOSP</th>\n",
              "      <th>HOSPITALIZADO</th>\n",
              "    </tr>\n",
              "  </thead>\n",
              "  <tbody>\n",
              "    <tr>\n",
              "      <th>1581090</th>\n",
              "      <td>2023-09-30</td>\n",
              "      <td>F8A54B544342BAE1CF8DC52802F6FC4198133E1C6473DC...</td>\n",
              "      <td>51</td>\n",
              "      <td>CAJAMARCA</td>\n",
              "      <td>CHOTA</td>\n",
              "      <td>LLAMA</td>\n",
              "      <td>FEMENINO</td>\n",
              "      <td>2018-04-16</td>\n",
              "      <td>Diabetes mellitus  no especificada</td>\n",
              "      <td>1</td>\n",
              "      <td>1</td>\n",
              "      <td>0</td>\n",
              "      <td>2</td>\n",
              "      <td>169866.74</td>\n",
              "      <td>2</td>\n",
              "      <td>169866.74</td>\n",
              "      <td>59</td>\n",
              "      <td>1</td>\n",
              "    </tr>\n",
              "  </tbody>\n",
              "</table>\n",
              "</div>"
            ],
            "text/plain": [
              "        FECHA_AFILIADOS_SIS  \\\n",
              "1581090          2023-09-30   \n",
              "\n",
              "                                        CODIGO_ANONIMIZADO  EDAD DEPARTAMENTO  \\\n",
              "1581090  F8A54B544342BAE1CF8DC52802F6FC4198133E1C6473DC...    51    CAJAMARCA   \n",
              "\n",
              "        PROVINCIA DISTRITO      SEXO FECHA_PRIMER_DX  \\\n",
              "1581090     CHOTA    LLAMA  FEMENINO      2018-04-16   \n",
              "\n",
              "                              TIPO_DIABETES  CON_DX_OBESIDAD  \\\n",
              "1581090  Diabetes mellitus  no especificada                1   \n",
              "\n",
              "         CON_DX_HIPERTENSION  CON_DX_SALUDMENTAL  CANT_ATENCIONES  VALOR_NETO  \\\n",
              "1581090                    1                   0                2   169866.74   \n",
              "\n",
              "         CANT_ATENCIONES_HOSP  VALOR_NETO_HOSP  DIAS_HOSP  HOSPITALIZADO  \n",
              "1581090                     2        169866.74         59              1  "
            ]
          },
          "execution_count": 251,
          "metadata": {},
          "output_type": "execute_result"
        }
      ],
      "source": [
        "data[data['VALOR_NETO_HOSP'] == 169866.74]"
      ]
    },
    {
      "cell_type": "code",
      "execution_count": null,
      "metadata": {
        "id": "Amak0bihY9_A",
        "outputId": "a537eff5-a95c-46fe-cf7c-a3e6452b6341"
      },
      "outputs": [
        {
          "data": {
            "text/plain": [
              "np.int64(1)"
            ]
          },
          "execution_count": 252,
          "metadata": {},
          "output_type": "execute_result"
        }
      ],
      "source": [
        "(data['VALOR_NETO_HOSP'] == data['VALOR_NETO_HOSP'].max()).sum()"
      ]
    },
    {
      "cell_type": "code",
      "execution_count": null,
      "metadata": {
        "id": "G9PHmVuUY9_A",
        "outputId": "79a87ea7-1164-4a23-ef3e-1a62a4c47edf"
      },
      "outputs": [
        {
          "data": {
            "text/plain": [
              "VALOR_NETO_HOSP\n",
              "169866.74    1\n",
              "135748.75    1\n",
              "130109.48    1\n",
              "115796.45    1\n",
              "86568.58     1\n",
              "Name: count, dtype: int64"
            ]
          },
          "execution_count": 253,
          "metadata": {},
          "output_type": "execute_result"
        }
      ],
      "source": [
        "data[data['VALOR_NETO_HOSP'] > data['VALOR_NETO_HOSP'].quantile(0.95)]\\\n",
        "['VALOR_NETO_HOSP'].sort_values(ascending=False).head().value_counts()"
      ]
    },
    {
      "cell_type": "code",
      "execution_count": null,
      "metadata": {
        "id": "kWvWR4zlY9_A",
        "outputId": "3e0c0308-ce9a-4c7e-941f-bb31129452db"
      },
      "outputs": [
        {
          "data": {
            "text/plain": [
              "(600970, 18)"
            ]
          },
          "execution_count": 254,
          "metadata": {},
          "output_type": "execute_result"
        }
      ],
      "source": [
        "data.shape"
      ]
    },
    {
      "cell_type": "code",
      "execution_count": null,
      "metadata": {
        "id": "WazTVJGYY9_B",
        "outputId": "96b15f01-9c25-42af-918d-0871b92033a0"
      },
      "outputs": [
        {
          "name": "stdout",
          "output_type": "stream",
          "text": [
            "<class 'pandas.core.frame.DataFrame'>\n",
            "Index: 600970 entries, 550183 to 1735939\n",
            "Data columns (total 18 columns):\n",
            " #   Column                Non-Null Count   Dtype         \n",
            "---  ------                --------------   -----         \n",
            " 0   FECHA_AFILIADOS_SIS   600970 non-null  datetime64[ns]\n",
            " 1   CODIGO_ANONIMIZADO    600970 non-null  object        \n",
            " 2   EDAD                  600970 non-null  int8          \n",
            " 3   DEPARTAMENTO          600970 non-null  object        \n",
            " 4   PROVINCIA             600970 non-null  object        \n",
            " 5   DISTRITO              600970 non-null  object        \n",
            " 6   SEXO                  600970 non-null  object        \n",
            " 7   FECHA_PRIMER_DX       600970 non-null  datetime64[ns]\n",
            " 8   TIPO_DIABETES         600970 non-null  object        \n",
            " 9   CON_DX_OBESIDAD       600970 non-null  int8          \n",
            " 10  CON_DX_HIPERTENSION   600970 non-null  int8          \n",
            " 11  CON_DX_SALUDMENTAL    600970 non-null  int8          \n",
            " 12  CANT_ATENCIONES       600970 non-null  int64         \n",
            " 13  VALOR_NETO            600970 non-null  float64       \n",
            " 14  CANT_ATENCIONES_HOSP  600970 non-null  int64         \n",
            " 15  VALOR_NETO_HOSP       600970 non-null  float64       \n",
            " 16  DIAS_HOSP             600970 non-null  int64         \n",
            " 17  HOSPITALIZADO         600970 non-null  int8          \n",
            "dtypes: datetime64[ns](2), float64(2), int64(3), int8(5), object(6)\n",
            "memory usage: 67.1+ MB\n"
          ]
        }
      ],
      "source": [
        "data.info()"
      ]
    },
    {
      "cell_type": "code",
      "execution_count": null,
      "metadata": {
        "id": "dQruLyePY9_B",
        "outputId": "c74faa29-b8f2-4c11-dbc8-d3b15e038e41"
      },
      "outputs": [
        {
          "name": "stdout",
          "output_type": "stream",
          "text": [
            "Proporción antes de Reducir Set de Datos: \n",
            "HOSPITALIZADO\n",
            "0   0.98\n",
            "1   0.02\n",
            "Name: proportion, dtype: float64\n"
          ]
        }
      ],
      "source": [
        "# Verifica las categorías en la columna objetivo\n",
        "print(f\"Proporción antes de Reducir Set de Datos: \\n{data['HOSPITALIZADO'].value_counts(normalize=True)}\")\n",
        "\n",
        "# Realiza un muestreo estratificado para reducir a 50% del tamaño original\n",
        "data_sample, _ = train_test_split(\n",
        "    data,\n",
        "    test_size=0.5,  # Mantén el 50% del dataset original\n",
        "    stratify=data['HOSPITALIZADO'],  # Estratifica por la columna HOSPITALIZADO\n",
        "    random_state=42  # Para reproducibilidad\n",
        ")"
      ]
    },
    {
      "cell_type": "code",
      "execution_count": null,
      "metadata": {
        "id": "4GBDCHi7Y9_B"
      },
      "outputs": [],
      "source": [
        "data_sample.to_csv('data_diabetes.csv', index=False)"
      ]
    },
    {
      "cell_type": "code",
      "execution_count": null,
      "metadata": {
        "id": "sBZVk1W7Y9_B"
      },
      "outputs": [],
      "source": [
        "ds = pd.read_csv('data_diabetes.csv')"
      ]
    },
    {
      "cell_type": "code",
      "execution_count": null,
      "metadata": {
        "id": "Te3bCBRtY9_B",
        "outputId": "01753914-5592-444b-9576-a23aa8221ade"
      },
      "outputs": [
        {
          "name": "stdout",
          "output_type": "stream",
          "text": [
            "<class 'pandas.core.frame.DataFrame'>\n",
            "RangeIndex: 300485 entries, 0 to 300484\n",
            "Data columns (total 18 columns):\n",
            " #   Column                Non-Null Count   Dtype  \n",
            "---  ------                --------------   -----  \n",
            " 0   FECHA_AFILIADOS_SIS   300485 non-null  object \n",
            " 1   CODIGO_ANONIMIZADO    300485 non-null  object \n",
            " 2   EDAD                  300485 non-null  int64  \n",
            " 3   DEPARTAMENTO          300485 non-null  object \n",
            " 4   PROVINCIA             300485 non-null  object \n",
            " 5   DISTRITO              300485 non-null  object \n",
            " 6   SEXO                  300485 non-null  object \n",
            " 7   FECHA_PRIMER_DX       300485 non-null  object \n",
            " 8   TIPO_DIABETES         300485 non-null  object \n",
            " 9   CON_DX_OBESIDAD       300485 non-null  int64  \n",
            " 10  CON_DX_HIPERTENSION   300485 non-null  int64  \n",
            " 11  CON_DX_SALUDMENTAL    300485 non-null  int64  \n",
            " 12  CANT_ATENCIONES       300485 non-null  int64  \n",
            " 13  VALOR_NETO            300485 non-null  float64\n",
            " 14  CANT_ATENCIONES_HOSP  300485 non-null  int64  \n",
            " 15  VALOR_NETO_HOSP       300485 non-null  float64\n",
            " 16  DIAS_HOSP             300485 non-null  int64  \n",
            " 17  HOSPITALIZADO         300485 non-null  int64  \n",
            "dtypes: float64(2), int64(8), object(8)\n",
            "memory usage: 41.3+ MB\n"
          ]
        }
      ],
      "source": [
        "ds.info()"
      ]
    }
  ],
  "metadata": {
    "kernelspec": {
      "display_name": "Python 3",
      "language": "python",
      "name": "python3"
    },
    "language_info": {
      "codemirror_mode": {
        "name": "ipython",
        "version": 3
      },
      "file_extension": ".py",
      "mimetype": "text/x-python",
      "name": "python",
      "nbconvert_exporter": "python",
      "pygments_lexer": "ipython3",
      "version": "3.12.6"
    },
    "colab": {
      "provenance": [],
      "include_colab_link": true
    }
  },
  "nbformat": 4,
  "nbformat_minor": 0
}